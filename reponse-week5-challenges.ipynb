{
 "cells": [
  {
   "cell_type": "markdown",
   "metadata": {},
   "source": [
    "# week5-challenges"
   ]
  },
  {
   "cell_type": "markdown",
   "metadata": {},
   "source": [
    "## Numpy 101\n",
    "\n",
    "The goal of this challenge is to get familiar with the Numpy library, manipulate multidimensional arrays and apply some linear algebra operations without using `for` loops.\n",
    "\n",
    "💡 Do not forget to keep the [Numpy Cheat Sheet](https://s3.amazonaws.com/assets.datacamp.com/blog_assets/Numpy_Python_Cheat_Sheet.pdf) close during this challenge."
   ]
  },
  {
   "cell_type": "code",
   "execution_count": 1,
   "metadata": {},
   "outputs": [],
   "source": [
    "import numpy as np # Run this cell!"
   ]
  },
  {
   "cell_type": "markdown",
   "metadata": {},
   "source": [
    "---\n",
    "\n",
    "**Q1** - Create a null vector (i.e. with only zeros `0`) of size 10. \n",
    "\n",
    "It should look like this:\n",
    "\n",
    "```\n",
    "array([0., 0., 0., 0., 0., 0., 0., 0., 0., 0.])\n",
    "```\n",
    "\n",
    "<details>\n",
    "    <summary>🆘 Hint</summary>\n",
    "    <p>Have a look at <a href=\"https://numpy.org/devdocs/reference/generated/numpy.zeros.html\"><code>numpy.zeros</code></a></p>\n",
    "</details>"
   ]
  },
  {
   "cell_type": "code",
   "execution_count": 2,
   "metadata": {},
   "outputs": [
    {
     "data": {
      "text/plain": [
       "array([0., 0., 0., 0., 0., 0., 0., 0.])"
      ]
     },
     "execution_count": 2,
     "metadata": {},
     "output_type": "execute_result"
    }
   ],
   "source": [
    "np.zeros(8)"
   ]
  },
  {
   "cell_type": "markdown",
   "metadata": {},
   "source": [
    "---\n",
    "\n",
    "**Q2** - Create a vector with values from 5 to 10\n",
    "\n",
    "It should look like this:\n",
    "\n",
    "```\n",
    "array([ 5,  6,  7,  8,  9, 10])\n",
    "```\n",
    "\n",
    "<details>\n",
    "    <summary>🆘 Hint</summary>\n",
    "    <p>Have a look at <a href=\"https://numpy.org/devdocs/reference/generated/numpy.arange.html\"><code>numpy.arange</code></a></p>\n",
    "</details>"
   ]
  },
  {
   "cell_type": "code",
   "execution_count": 3,
   "metadata": {},
   "outputs": [
    {
     "data": {
      "text/plain": [
       "array([ 5,  6,  7,  8,  9, 10])"
      ]
     },
     "execution_count": 3,
     "metadata": {},
     "output_type": "execute_result"
    }
   ],
   "source": [
    "np.arange(5,11)"
   ]
  },
  {
   "cell_type": "markdown",
   "metadata": {},
   "source": [
    "---\n",
    "\n",
    "**Q3** - Create the following matrix `A` as a NumPy `ndarray`:\n",
    "\n",
    "$\n",
    "A = \n",
    "\\begin{pmatrix}\n",
    "5 & 9 & 7\\\\\n",
    "1 & 0 & 3\n",
    "\\end{pmatrix}\n",
    "$\n"
   ]
  },
  {
   "cell_type": "code",
   "execution_count": 4,
   "metadata": {},
   "outputs": [
    {
     "data": {
      "text/plain": [
       "array([[5, 9, 7],\n",
       "       [1, 0, 3]])"
      ]
     },
     "execution_count": 4,
     "metadata": {},
     "output_type": "execute_result"
    }
   ],
   "source": [
    "A = np.array([5,9,7,1,0,3]).reshape(2,3)\n",
    "A"
   ]
  },
  {
   "cell_type": "markdown",
   "metadata": {},
   "source": [
    "---\n",
    "**Q4** - Create the following matrix `B` without using `np.array()` constructor:\n",
    "\n",
    "$\n",
    "B = \n",
    "\\begin{pmatrix}\n",
    "1 & 1\\\\\n",
    "1 & 1\n",
    "\\end{pmatrix}\n",
    "$"
   ]
  },
  {
   "cell_type": "code",
   "execution_count": 5,
   "metadata": {},
   "outputs": [
    {
     "data": {
      "text/plain": [
       "array([[1., 1.],\n",
       "       [1., 1.]])"
      ]
     },
     "execution_count": 5,
     "metadata": {},
     "output_type": "execute_result"
    }
   ],
   "source": [
    "B = np.ones(4).reshape(2,2)\n",
    "B"
   ]
  },
  {
   "cell_type": "markdown",
   "metadata": {},
   "source": [
    "---\n",
    "\n",
    "**Q5** - Create a vector of 20 elements evenly spaced between `-1` and `1`.\n",
    "\n",
    "It should look like this:\n",
    "\n",
    "```\n",
    "array([-1.        , -0.89473684, -0.78947368, -0.68421053, -0.57894737,\n",
    "       -0.47368421, -0.36842105, -0.26315789, -0.15789474, -0.05263158,\n",
    "        0.05263158,  0.15789474,  0.26315789,  0.36842105,  0.47368421,\n",
    "        0.57894737,  0.68421053,  0.78947368,  0.89473684,  1.        ])\n",
    "```\n",
    "\n",
    "<details>\n",
    "    <summary>🆘 Hint</summary>\n",
    "    <p>Have a look at <a href=\"https://numpy.org/devdocs/reference/generated/numpy.linspace.html\"><code>numpy.linspace</code></a></p>\n",
    "</details>"
   ]
  },
  {
   "cell_type": "code",
   "execution_count": 6,
   "metadata": {},
   "outputs": [
    {
     "data": {
      "text/plain": [
       "array([-1.        , -0.89473684, -0.78947368, -0.68421053, -0.57894737,\n",
       "       -0.47368421, -0.36842105, -0.26315789, -0.15789474, -0.05263158,\n",
       "        0.05263158,  0.15789474,  0.26315789,  0.36842105,  0.47368421,\n",
       "        0.57894737,  0.68421053,  0.78947368,  0.89473684,  1.        ])"
      ]
     },
     "execution_count": 6,
     "metadata": {},
     "output_type": "execute_result"
    }
   ],
   "source": [
    "np.linspace(-1,1,20)"
   ]
  },
  {
   "cell_type": "markdown",
   "metadata": {},
   "source": [
    "---\n",
    "\n",
    "**Q6** - Create a 3x3 identity matrix `C`:\n",
    "\n",
    "$\n",
    "C = \n",
    "\\begin{pmatrix}\n",
    "1 & 0 & 0\\\\\n",
    "0 & 1 & 0\\\\\n",
    "0 & 0 & 1\n",
    "\\end{pmatrix}\n",
    "$\n",
    "\n",
    "<br>\n",
    "\n",
    "<details>\n",
    "    <summary>🆘 Hint</summary>\n",
    "    <p>Have a look at <a href=\"https://numpy.org/devdocs/reference/generated/numpy.eye.html\"><code>numpy.eye</code></a></p>\n",
    "</details>"
   ]
  },
  {
   "cell_type": "code",
   "execution_count": 7,
   "metadata": {},
   "outputs": [
    {
     "data": {
      "text/plain": [
       "array([[1., 0., 0.],\n",
       "       [0., 1., 0.],\n",
       "       [0., 0., 1.]])"
      ]
     },
     "execution_count": 7,
     "metadata": {},
     "output_type": "execute_result"
    }
   ],
   "source": [
    "C = np.eye(3)\n",
    "C"
   ]
  },
  {
   "cell_type": "markdown",
   "metadata": {},
   "source": [
    "---\n",
    "\n",
    "**Q7** - Reshape the following `ndarray` `D` into a 2x3 matrix `E`:\n",
    "\n",
    "$\n",
    "D = \n",
    "\\begin{pmatrix}\n",
    "2 & 9 & 7 & 3 & 1 & 5\n",
    "\\end{pmatrix}\n",
    "$\n",
    "    \n",
    "$\n",
    "E = \n",
    "\\begin{pmatrix}\n",
    "2 & 9 & 7\\\\\n",
    "3 & 1 & 5\n",
    "\\end{pmatrix}\n",
    "$\n",
    "\n",
    "<br>\n",
    "\n",
    "<details>\n",
    "    <summary>🆘 Hint</summary>\n",
    "    <p>Have a look at <a href=\"https://numpy.org/devdocs/reference/generated/numpy.reshape.html\"><code>numpy.reshape</code></a></p>\n",
    "</details>"
   ]
  },
  {
   "cell_type": "code",
   "execution_count": 8,
   "metadata": {},
   "outputs": [
    {
     "data": {
      "text/plain": [
       "array([[2, 9, 7],\n",
       "       [3, 1, 5]])"
      ]
     },
     "execution_count": 8,
     "metadata": {},
     "output_type": "execute_result"
    }
   ],
   "source": [
    "D = np.array([2, 9, 7, 3, 1, 5])\n",
    "E = D.reshape(2,3)\n",
    "E"
   ]
  },
  {
   "cell_type": "markdown",
   "metadata": {},
   "source": [
    "---\n",
    "\n",
    "**Q8** - Create a 8x8 checkboard matrix `F`:\n",
    "\n",
    "$\n",
    "F = \n",
    "\\begin{pmatrix}\n",
    "1 & 0 & 1 & 0 & 1 & 0 & 1 & 0\\\\\n",
    "0 & 1 & 0 & 1 & 0 & 1 & 0 & 1\\\\\n",
    "1 & 0 & 1 & 0 & 1 & 0 & 1 & 0\\\\\n",
    "0 & 1 & 0 & 1 & 0 & 1 & 0 & 1\\\\\n",
    "1 & 0 & 1 & 0 & 1 & 0 & 1 & 0\\\\\n",
    "0 & 1 & 0 & 1 & 0 & 1 & 0 & 1\\\\\n",
    "1 & 0 & 1 & 0 & 1 & 0 & 1 & 0\\\\\n",
    "0 & 1 & 0 & 1 & 0 & 1 & 0 & 1\\\\\n",
    "\\end{pmatrix}\n",
    "$\n",
    "\n",
    "<br>\n",
    "\n",
    "<details>\n",
    "    <summary>🆘 Hint</summary>\n",
    "    <p>Have a look at <a href=\"https://numpy.org/devdocs/reference/generated/numpy.tile.html\"><code>numpy.tile</code></a></p>\n",
    "</details>"
   ]
  },
  {
   "cell_type": "code",
   "execution_count": 9,
   "metadata": {},
   "outputs": [
    {
     "data": {
      "text/plain": [
       "array([[1, 0, 1, 0, 1, 0, 1, 0],\n",
       "       [0, 1, 0, 1, 0, 1, 0, 1],\n",
       "       [1, 0, 1, 0, 1, 0, 1, 0],\n",
       "       [0, 1, 0, 1, 0, 1, 0, 1],\n",
       "       [1, 0, 1, 0, 1, 0, 1, 0],\n",
       "       [0, 1, 0, 1, 0, 1, 0, 1],\n",
       "       [1, 0, 1, 0, 1, 0, 1, 0],\n",
       "       [0, 1, 0, 1, 0, 1, 0, 1]])"
      ]
     },
     "execution_count": 9,
     "metadata": {},
     "output_type": "execute_result"
    }
   ],
   "source": [
    "F = np.tile(np.array([1,0,0,1]).reshape(2,2),(4,4))\n",
    "F"
   ]
  },
  {
   "cell_type": "markdown",
   "metadata": {},
   "source": [
    "---\n",
    "\n",
    "**Q9**: Select the second column of this `ndarray` `G` and reshape it as an `ndarray` of 4 lines and 1 column:\n",
    "\n",
    "```\n",
    "array([[0.?],\n",
    "       [0.?],\n",
    "       [0.?],\n",
    "       [0.?]])\n",
    "```"
   ]
  },
  {
   "cell_type": "code",
   "execution_count": 10,
   "metadata": {},
   "outputs": [
    {
     "name": "stdout",
     "output_type": "stream",
     "text": [
      "[[0.15960429 0.211473   0.36085678 0.9427684  0.23758115]\n",
      " [0.65390287 0.7705918  0.35769131 0.38886653 0.55248484]\n",
      " [0.71345168 0.22107545 0.48065541 0.4795665  0.75284025]\n",
      " [0.45741229 0.46115517 0.89830769 0.68994187 0.67406436]]\n"
     ]
    }
   ],
   "source": [
    "G = np.random.random((4, 5))\n",
    "print(G)"
   ]
  },
  {
   "cell_type": "code",
   "execution_count": 11,
   "metadata": {},
   "outputs": [
    {
     "data": {
      "text/plain": [
       "array([[0.211473  ],\n",
       "       [0.7705918 ],\n",
       "       [0.22107545],\n",
       "       [0.46115517]])"
      ]
     },
     "execution_count": 11,
     "metadata": {},
     "output_type": "execute_result"
    }
   ],
   "source": [
    "G[:,1].reshape(4,1)"
   ]
  },
  {
   "cell_type": "markdown",
   "metadata": {},
   "source": [
    "---\n",
    "\n",
    "**Q10** - Compute the sum of matrixes `G` and `H`:\n",
    "\n",
    "$\n",
    "G = \n",
    "\\begin{pmatrix}\n",
    "0 & 4\\\\\n",
    "-4 & -3\\\\\n",
    "1 & 1\n",
    "\\end{pmatrix}\n",
    "$\n",
    "\n",
    "$\n",
    "H =\n",
    "\\begin{pmatrix}\n",
    "0 & 1\\\\\n",
    "1 & -1\\\\\n",
    "2 & 3\n",
    "\\end{pmatrix}\n",
    "$\n",
    "\n",
    "$\n",
    "G + H = ?\n",
    "$\n"
   ]
  },
  {
   "cell_type": "code",
   "execution_count": 12,
   "metadata": {},
   "outputs": [
    {
     "name": "stdout",
     "output_type": "stream",
     "text": [
      "[[ 0  5]\n",
      " [-3 -4]\n",
      " [ 3  4]]\n"
     ]
    }
   ],
   "source": [
    "G = np.array([0,4,-4,-3,1,1]).reshape(3,2)\n",
    "H = np.array([0,1,1,-1,2,3]).reshape(3,2)\n",
    "print(G+H)"
   ]
  },
  {
   "cell_type": "markdown",
   "metadata": {},
   "source": [
    "---"
   ]
  },
  {
   "cell_type": "markdown",
   "metadata": {},
   "source": [
    "## pandas 101"
   ]
  },
  {
   "cell_type": "code",
   "execution_count": 13,
   "metadata": {},
   "outputs": [],
   "source": [
    "import pandas as pd"
   ]
  },
  {
   "cell_type": "markdown",
   "metadata": {},
   "source": [
    "---\n",
    "\n",
    "**Q11** - read the mobike dataset into a dataframe:"
   ]
  },
  {
   "cell_type": "code",
   "execution_count": 14,
   "metadata": {},
   "outputs": [],
   "source": [
    "df = pd.read_csv('../data/UTSEUS-MOBIKE-shanghai_full.csv',header=0)"
   ]
  },
  {
   "cell_type": "code",
   "execution_count": 15,
   "metadata": {},
   "outputs": [
    {
     "data": {
      "text/html": [
       "<div>\n",
       "<style scoped>\n",
       "    .dataframe tbody tr th:only-of-type {\n",
       "        vertical-align: middle;\n",
       "    }\n",
       "\n",
       "    .dataframe tbody tr th {\n",
       "        vertical-align: top;\n",
       "    }\n",
       "\n",
       "    .dataframe thead th {\n",
       "        text-align: right;\n",
       "    }\n",
       "</style>\n",
       "<table border=\"1\" class=\"dataframe\">\n",
       "  <thead>\n",
       "    <tr style=\"text-align: right;\">\n",
       "      <th></th>\n",
       "      <th>orderid</th>\n",
       "      <th>bikeid</th>\n",
       "      <th>userid</th>\n",
       "      <th>start_time</th>\n",
       "      <th>start_location_x</th>\n",
       "      <th>start_location_y</th>\n",
       "      <th>end_time</th>\n",
       "      <th>end_location_x</th>\n",
       "      <th>end_location_y</th>\n",
       "      <th>track</th>\n",
       "    </tr>\n",
       "  </thead>\n",
       "  <tbody>\n",
       "    <tr>\n",
       "      <th>0</th>\n",
       "      <td>1</td>\n",
       "      <td>324731</td>\n",
       "      <td>7541</td>\n",
       "      <td>2016-08-28 00:00</td>\n",
       "      <td>121.490</td>\n",
       "      <td>31.280</td>\n",
       "      <td>2016-08-28 00:08</td>\n",
       "      <td>121.486</td>\n",
       "      <td>31.273</td>\n",
       "      <td>121.485,31.275#121.485,31.276#121.486,31.273#1...</td>\n",
       "    </tr>\n",
       "    <tr>\n",
       "      <th>1</th>\n",
       "      <td>6</td>\n",
       "      <td>288841</td>\n",
       "      <td>4427</td>\n",
       "      <td>2016-08-28 00:00</td>\n",
       "      <td>121.462</td>\n",
       "      <td>31.313</td>\n",
       "      <td>2016-08-28 00:17</td>\n",
       "      <td>121.455</td>\n",
       "      <td>31.315</td>\n",
       "      <td>121.455,31.313#121.455,31.314#121.455,31.315#1...</td>\n",
       "    </tr>\n",
       "    <tr>\n",
       "      <th>2</th>\n",
       "      <td>8</td>\n",
       "      <td>315873</td>\n",
       "      <td>6474</td>\n",
       "      <td>2016-08-28 00:00</td>\n",
       "      <td>121.416</td>\n",
       "      <td>31.154</td>\n",
       "      <td>2016-08-28 00:14</td>\n",
       "      <td>121.419</td>\n",
       "      <td>31.156</td>\n",
       "      <td>121.416,31.154#121.416,31.155#121.417,31.155#1...</td>\n",
       "    </tr>\n",
       "    <tr>\n",
       "      <th>3</th>\n",
       "      <td>10</td>\n",
       "      <td>93155</td>\n",
       "      <td>12616</td>\n",
       "      <td>2016-08-28 00:00</td>\n",
       "      <td>121.436</td>\n",
       "      <td>31.320</td>\n",
       "      <td>2016-08-28 00:12</td>\n",
       "      <td>121.444</td>\n",
       "      <td>31.310</td>\n",
       "      <td>121.436,31.318#121.436,31.319#121.436,31.320#1...</td>\n",
       "    </tr>\n",
       "    <tr>\n",
       "      <th>4</th>\n",
       "      <td>11</td>\n",
       "      <td>352484</td>\n",
       "      <td>11596</td>\n",
       "      <td>2016-08-28 00:00</td>\n",
       "      <td>121.459</td>\n",
       "      <td>31.325</td>\n",
       "      <td>2016-08-28 00:08</td>\n",
       "      <td>121.460</td>\n",
       "      <td>31.315</td>\n",
       "      <td>121.459,31.315#121.459,31.316#121.459,31.317#1...</td>\n",
       "    </tr>\n",
       "    <tr>\n",
       "      <th>...</th>\n",
       "      <td>...</td>\n",
       "      <td>...</td>\n",
       "      <td>...</td>\n",
       "      <td>...</td>\n",
       "      <td>...</td>\n",
       "      <td>...</td>\n",
       "      <td>...</td>\n",
       "      <td>...</td>\n",
       "      <td>...</td>\n",
       "      <td>...</td>\n",
       "    </tr>\n",
       "    <tr>\n",
       "      <th>1023598</th>\n",
       "      <td>1807859</td>\n",
       "      <td>65563</td>\n",
       "      <td>200</td>\n",
       "      <td>2016-08-27 00:00</td>\n",
       "      <td>121.452</td>\n",
       "      <td>31.336</td>\n",
       "      <td>2016-08-27 00:12</td>\n",
       "      <td>121.450</td>\n",
       "      <td>31.325</td>\n",
       "      <td>121.450,31.325#121.450,31.326#121.451,31.326#1...</td>\n",
       "    </tr>\n",
       "    <tr>\n",
       "      <th>1023599</th>\n",
       "      <td>1807860</td>\n",
       "      <td>7077</td>\n",
       "      <td>11733</td>\n",
       "      <td>2016-08-27 00:00</td>\n",
       "      <td>121.437</td>\n",
       "      <td>31.239</td>\n",
       "      <td>2016-08-27 00:34</td>\n",
       "      <td>121.423</td>\n",
       "      <td>31.275</td>\n",
       "      <td>121.422,31.274#121.422,31.275#121.422,31.278#1...</td>\n",
       "    </tr>\n",
       "    <tr>\n",
       "      <th>1023600</th>\n",
       "      <td>1807863</td>\n",
       "      <td>303152</td>\n",
       "      <td>10770</td>\n",
       "      <td>2016-08-26 23:59</td>\n",
       "      <td>121.518</td>\n",
       "      <td>31.291</td>\n",
       "      <td>2016-08-27 00:20</td>\n",
       "      <td>121.506</td>\n",
       "      <td>31.269</td>\n",
       "      <td>121.503,31.272#121.503,31.273#121.504,31.271#1...</td>\n",
       "    </tr>\n",
       "    <tr>\n",
       "      <th>1023601</th>\n",
       "      <td>1807864</td>\n",
       "      <td>283994</td>\n",
       "      <td>11009</td>\n",
       "      <td>2016-08-27 00:00</td>\n",
       "      <td>121.532</td>\n",
       "      <td>31.298</td>\n",
       "      <td>2016-08-27 00:19</td>\n",
       "      <td>121.539</td>\n",
       "      <td>31.290</td>\n",
       "      <td>121.532,31.298#121.533,31.298#121.533,31.299#1...</td>\n",
       "    </tr>\n",
       "    <tr>\n",
       "      <th>1023602</th>\n",
       "      <td>1807865</td>\n",
       "      <td>301489</td>\n",
       "      <td>11138</td>\n",
       "      <td>2016-08-26 23:59</td>\n",
       "      <td>121.367</td>\n",
       "      <td>31.104</td>\n",
       "      <td>2016-08-27 00:11</td>\n",
       "      <td>121.353</td>\n",
       "      <td>31.098</td>\n",
       "      <td>121.367,31.103#121.367,31.104#121.367,31.105</td>\n",
       "    </tr>\n",
       "  </tbody>\n",
       "</table>\n",
       "<p>1023603 rows × 10 columns</p>\n",
       "</div>"
      ],
      "text/plain": [
       "         orderid  bikeid  userid        start_time  start_location_x  \\\n",
       "0              1  324731    7541  2016-08-28 00:00           121.490   \n",
       "1              6  288841    4427  2016-08-28 00:00           121.462   \n",
       "2              8  315873    6474  2016-08-28 00:00           121.416   \n",
       "3             10   93155   12616  2016-08-28 00:00           121.436   \n",
       "4             11  352484   11596  2016-08-28 00:00           121.459   \n",
       "...          ...     ...     ...               ...               ...   \n",
       "1023598  1807859   65563     200  2016-08-27 00:00           121.452   \n",
       "1023599  1807860    7077   11733  2016-08-27 00:00           121.437   \n",
       "1023600  1807863  303152   10770  2016-08-26 23:59           121.518   \n",
       "1023601  1807864  283994   11009  2016-08-27 00:00           121.532   \n",
       "1023602  1807865  301489   11138  2016-08-26 23:59           121.367   \n",
       "\n",
       "         start_location_y          end_time  end_location_x  end_location_y  \\\n",
       "0                  31.280  2016-08-28 00:08         121.486          31.273   \n",
       "1                  31.313  2016-08-28 00:17         121.455          31.315   \n",
       "2                  31.154  2016-08-28 00:14         121.419          31.156   \n",
       "3                  31.320  2016-08-28 00:12         121.444          31.310   \n",
       "4                  31.325  2016-08-28 00:08         121.460          31.315   \n",
       "...                   ...               ...             ...             ...   \n",
       "1023598            31.336  2016-08-27 00:12         121.450          31.325   \n",
       "1023599            31.239  2016-08-27 00:34         121.423          31.275   \n",
       "1023600            31.291  2016-08-27 00:20         121.506          31.269   \n",
       "1023601            31.298  2016-08-27 00:19         121.539          31.290   \n",
       "1023602            31.104  2016-08-27 00:11         121.353          31.098   \n",
       "\n",
       "                                                     track  \n",
       "0        121.485,31.275#121.485,31.276#121.486,31.273#1...  \n",
       "1        121.455,31.313#121.455,31.314#121.455,31.315#1...  \n",
       "2        121.416,31.154#121.416,31.155#121.417,31.155#1...  \n",
       "3        121.436,31.318#121.436,31.319#121.436,31.320#1...  \n",
       "4        121.459,31.315#121.459,31.316#121.459,31.317#1...  \n",
       "...                                                    ...  \n",
       "1023598  121.450,31.325#121.450,31.326#121.451,31.326#1...  \n",
       "1023599  121.422,31.274#121.422,31.275#121.422,31.278#1...  \n",
       "1023600  121.503,31.272#121.503,31.273#121.504,31.271#1...  \n",
       "1023601  121.532,31.298#121.533,31.298#121.533,31.299#1...  \n",
       "1023602       121.367,31.103#121.367,31.104#121.367,31.105  \n",
       "\n",
       "[1023603 rows x 10 columns]"
      ]
     },
     "execution_count": 15,
     "metadata": {},
     "output_type": "execute_result"
    }
   ],
   "source": [
    "df"
   ]
  },
  {
   "cell_type": "markdown",
   "metadata": {},
   "source": [
    "---\n",
    "\n",
    "**Q12** - display the information of the mobike dataset:"
   ]
  },
  {
   "cell_type": "code",
   "execution_count": 16,
   "metadata": {},
   "outputs": [
    {
     "name": "stdout",
     "output_type": "stream",
     "text": [
      "<class 'pandas.core.frame.DataFrame'>\n",
      "RangeIndex: 1023603 entries, 0 to 1023602\n",
      "Data columns (total 10 columns):\n",
      " #   Column            Non-Null Count    Dtype  \n",
      "---  ------            --------------    -----  \n",
      " 0   orderid           1023603 non-null  int64  \n",
      " 1   bikeid            1023603 non-null  int64  \n",
      " 2   userid            1023603 non-null  int64  \n",
      " 3   start_time        1023603 non-null  object \n",
      " 4   start_location_x  1023603 non-null  float64\n",
      " 5   start_location_y  1023603 non-null  float64\n",
      " 6   end_time          1023603 non-null  object \n",
      " 7   end_location_x    1023603 non-null  float64\n",
      " 8   end_location_y    1023603 non-null  float64\n",
      " 9   track             1023603 non-null  object \n",
      "dtypes: float64(4), int64(3), object(3)\n",
      "memory usage: 78.1+ MB\n"
     ]
    }
   ],
   "source": [
    "df.info()"
   ]
  },
  {
   "cell_type": "markdown",
   "metadata": {},
   "source": [
    "---\n",
    "\n",
    "**Q13** - convert the time columns into a datetime object and verify the columns have the right type:\n",
    "\n",
    "<details>\n",
    "    <summary>🆘 Hint</summary>\n",
    "    <p>Have a look at <a href=\"https://pandas.pydata.org/pandas-docs/stable/reference/api/pandas.to_datetime.html\"><code>pandas.to_datetime</code></a></p>\n",
    "</details>"
   ]
  },
  {
   "cell_type": "code",
   "execution_count": 17,
   "metadata": {},
   "outputs": [],
   "source": [
    "df['start_time'] = pd.to_datetime(df.start_time,format = '%Y-%m-%d %H:%M:%S')\n",
    "df['end_time'] = pd.to_datetime(df.end_time,format = '%Y-%m-%d %H:%M:%S')"
   ]
  },
  {
   "cell_type": "code",
   "execution_count": 18,
   "metadata": {},
   "outputs": [
    {
     "name": "stdout",
     "output_type": "stream",
     "text": [
      "<class 'pandas.core.frame.DataFrame'>\n",
      "RangeIndex: 1023603 entries, 0 to 1023602\n",
      "Data columns (total 10 columns):\n",
      " #   Column            Non-Null Count    Dtype         \n",
      "---  ------            --------------    -----         \n",
      " 0   orderid           1023603 non-null  int64         \n",
      " 1   bikeid            1023603 non-null  int64         \n",
      " 2   userid            1023603 non-null  int64         \n",
      " 3   start_time        1023603 non-null  datetime64[ns]\n",
      " 4   start_location_x  1023603 non-null  float64       \n",
      " 5   start_location_y  1023603 non-null  float64       \n",
      " 6   end_time          1023603 non-null  datetime64[ns]\n",
      " 7   end_location_x    1023603 non-null  float64       \n",
      " 8   end_location_y    1023603 non-null  float64       \n",
      " 9   track             1023603 non-null  object        \n",
      "dtypes: datetime64[ns](2), float64(4), int64(3), object(1)\n",
      "memory usage: 78.1+ MB\n"
     ]
    }
   ],
   "source": [
    "df.info()"
   ]
  },
  {
   "cell_type": "markdown",
   "metadata": {},
   "source": [
    "---\n",
    "\n",
    "**Q14** - create a new column week day with the day of the week as an integer from 1 (Monday) to 7 (Sunday):"
   ]
  },
  {
   "cell_type": "code",
   "execution_count": 19,
   "metadata": {},
   "outputs": [
    {
     "data": {
      "text/html": [
       "<div>\n",
       "<style scoped>\n",
       "    .dataframe tbody tr th:only-of-type {\n",
       "        vertical-align: middle;\n",
       "    }\n",
       "\n",
       "    .dataframe tbody tr th {\n",
       "        vertical-align: top;\n",
       "    }\n",
       "\n",
       "    .dataframe thead th {\n",
       "        text-align: right;\n",
       "    }\n",
       "</style>\n",
       "<table border=\"1\" class=\"dataframe\">\n",
       "  <thead>\n",
       "    <tr style=\"text-align: right;\">\n",
       "      <th></th>\n",
       "      <th>orderid</th>\n",
       "      <th>bikeid</th>\n",
       "      <th>userid</th>\n",
       "      <th>start_time</th>\n",
       "      <th>start_location_x</th>\n",
       "      <th>start_location_y</th>\n",
       "      <th>end_time</th>\n",
       "      <th>end_location_x</th>\n",
       "      <th>end_location_y</th>\n",
       "      <th>track</th>\n",
       "      <th>weekday</th>\n",
       "    </tr>\n",
       "  </thead>\n",
       "  <tbody>\n",
       "    <tr>\n",
       "      <th>0</th>\n",
       "      <td>1</td>\n",
       "      <td>324731</td>\n",
       "      <td>7541</td>\n",
       "      <td>2016-08-28 00:00:00</td>\n",
       "      <td>121.490</td>\n",
       "      <td>31.280</td>\n",
       "      <td>2016-08-28 00:08:00</td>\n",
       "      <td>121.486</td>\n",
       "      <td>31.273</td>\n",
       "      <td>121.485,31.275#121.485,31.276#121.486,31.273#1...</td>\n",
       "      <td>7</td>\n",
       "    </tr>\n",
       "    <tr>\n",
       "      <th>1</th>\n",
       "      <td>6</td>\n",
       "      <td>288841</td>\n",
       "      <td>4427</td>\n",
       "      <td>2016-08-28 00:00:00</td>\n",
       "      <td>121.462</td>\n",
       "      <td>31.313</td>\n",
       "      <td>2016-08-28 00:17:00</td>\n",
       "      <td>121.455</td>\n",
       "      <td>31.315</td>\n",
       "      <td>121.455,31.313#121.455,31.314#121.455,31.315#1...</td>\n",
       "      <td>7</td>\n",
       "    </tr>\n",
       "    <tr>\n",
       "      <th>2</th>\n",
       "      <td>8</td>\n",
       "      <td>315873</td>\n",
       "      <td>6474</td>\n",
       "      <td>2016-08-28 00:00:00</td>\n",
       "      <td>121.416</td>\n",
       "      <td>31.154</td>\n",
       "      <td>2016-08-28 00:14:00</td>\n",
       "      <td>121.419</td>\n",
       "      <td>31.156</td>\n",
       "      <td>121.416,31.154#121.416,31.155#121.417,31.155#1...</td>\n",
       "      <td>7</td>\n",
       "    </tr>\n",
       "    <tr>\n",
       "      <th>3</th>\n",
       "      <td>10</td>\n",
       "      <td>93155</td>\n",
       "      <td>12616</td>\n",
       "      <td>2016-08-28 00:00:00</td>\n",
       "      <td>121.436</td>\n",
       "      <td>31.320</td>\n",
       "      <td>2016-08-28 00:12:00</td>\n",
       "      <td>121.444</td>\n",
       "      <td>31.310</td>\n",
       "      <td>121.436,31.318#121.436,31.319#121.436,31.320#1...</td>\n",
       "      <td>7</td>\n",
       "    </tr>\n",
       "    <tr>\n",
       "      <th>4</th>\n",
       "      <td>11</td>\n",
       "      <td>352484</td>\n",
       "      <td>11596</td>\n",
       "      <td>2016-08-28 00:00:00</td>\n",
       "      <td>121.459</td>\n",
       "      <td>31.325</td>\n",
       "      <td>2016-08-28 00:08:00</td>\n",
       "      <td>121.460</td>\n",
       "      <td>31.315</td>\n",
       "      <td>121.459,31.315#121.459,31.316#121.459,31.317#1...</td>\n",
       "      <td>7</td>\n",
       "    </tr>\n",
       "    <tr>\n",
       "      <th>...</th>\n",
       "      <td>...</td>\n",
       "      <td>...</td>\n",
       "      <td>...</td>\n",
       "      <td>...</td>\n",
       "      <td>...</td>\n",
       "      <td>...</td>\n",
       "      <td>...</td>\n",
       "      <td>...</td>\n",
       "      <td>...</td>\n",
       "      <td>...</td>\n",
       "      <td>...</td>\n",
       "    </tr>\n",
       "    <tr>\n",
       "      <th>1023598</th>\n",
       "      <td>1807859</td>\n",
       "      <td>65563</td>\n",
       "      <td>200</td>\n",
       "      <td>2016-08-27 00:00:00</td>\n",
       "      <td>121.452</td>\n",
       "      <td>31.336</td>\n",
       "      <td>2016-08-27 00:12:00</td>\n",
       "      <td>121.450</td>\n",
       "      <td>31.325</td>\n",
       "      <td>121.450,31.325#121.450,31.326#121.451,31.326#1...</td>\n",
       "      <td>6</td>\n",
       "    </tr>\n",
       "    <tr>\n",
       "      <th>1023599</th>\n",
       "      <td>1807860</td>\n",
       "      <td>7077</td>\n",
       "      <td>11733</td>\n",
       "      <td>2016-08-27 00:00:00</td>\n",
       "      <td>121.437</td>\n",
       "      <td>31.239</td>\n",
       "      <td>2016-08-27 00:34:00</td>\n",
       "      <td>121.423</td>\n",
       "      <td>31.275</td>\n",
       "      <td>121.422,31.274#121.422,31.275#121.422,31.278#1...</td>\n",
       "      <td>6</td>\n",
       "    </tr>\n",
       "    <tr>\n",
       "      <th>1023600</th>\n",
       "      <td>1807863</td>\n",
       "      <td>303152</td>\n",
       "      <td>10770</td>\n",
       "      <td>2016-08-26 23:59:00</td>\n",
       "      <td>121.518</td>\n",
       "      <td>31.291</td>\n",
       "      <td>2016-08-27 00:20:00</td>\n",
       "      <td>121.506</td>\n",
       "      <td>31.269</td>\n",
       "      <td>121.503,31.272#121.503,31.273#121.504,31.271#1...</td>\n",
       "      <td>5</td>\n",
       "    </tr>\n",
       "    <tr>\n",
       "      <th>1023601</th>\n",
       "      <td>1807864</td>\n",
       "      <td>283994</td>\n",
       "      <td>11009</td>\n",
       "      <td>2016-08-27 00:00:00</td>\n",
       "      <td>121.532</td>\n",
       "      <td>31.298</td>\n",
       "      <td>2016-08-27 00:19:00</td>\n",
       "      <td>121.539</td>\n",
       "      <td>31.290</td>\n",
       "      <td>121.532,31.298#121.533,31.298#121.533,31.299#1...</td>\n",
       "      <td>6</td>\n",
       "    </tr>\n",
       "    <tr>\n",
       "      <th>1023602</th>\n",
       "      <td>1807865</td>\n",
       "      <td>301489</td>\n",
       "      <td>11138</td>\n",
       "      <td>2016-08-26 23:59:00</td>\n",
       "      <td>121.367</td>\n",
       "      <td>31.104</td>\n",
       "      <td>2016-08-27 00:11:00</td>\n",
       "      <td>121.353</td>\n",
       "      <td>31.098</td>\n",
       "      <td>121.367,31.103#121.367,31.104#121.367,31.105</td>\n",
       "      <td>5</td>\n",
       "    </tr>\n",
       "  </tbody>\n",
       "</table>\n",
       "<p>1023603 rows × 11 columns</p>\n",
       "</div>"
      ],
      "text/plain": [
       "         orderid  bikeid  userid          start_time  start_location_x  \\\n",
       "0              1  324731    7541 2016-08-28 00:00:00           121.490   \n",
       "1              6  288841    4427 2016-08-28 00:00:00           121.462   \n",
       "2              8  315873    6474 2016-08-28 00:00:00           121.416   \n",
       "3             10   93155   12616 2016-08-28 00:00:00           121.436   \n",
       "4             11  352484   11596 2016-08-28 00:00:00           121.459   \n",
       "...          ...     ...     ...                 ...               ...   \n",
       "1023598  1807859   65563     200 2016-08-27 00:00:00           121.452   \n",
       "1023599  1807860    7077   11733 2016-08-27 00:00:00           121.437   \n",
       "1023600  1807863  303152   10770 2016-08-26 23:59:00           121.518   \n",
       "1023601  1807864  283994   11009 2016-08-27 00:00:00           121.532   \n",
       "1023602  1807865  301489   11138 2016-08-26 23:59:00           121.367   \n",
       "\n",
       "         start_location_y            end_time  end_location_x  end_location_y  \\\n",
       "0                  31.280 2016-08-28 00:08:00         121.486          31.273   \n",
       "1                  31.313 2016-08-28 00:17:00         121.455          31.315   \n",
       "2                  31.154 2016-08-28 00:14:00         121.419          31.156   \n",
       "3                  31.320 2016-08-28 00:12:00         121.444          31.310   \n",
       "4                  31.325 2016-08-28 00:08:00         121.460          31.315   \n",
       "...                   ...                 ...             ...             ...   \n",
       "1023598            31.336 2016-08-27 00:12:00         121.450          31.325   \n",
       "1023599            31.239 2016-08-27 00:34:00         121.423          31.275   \n",
       "1023600            31.291 2016-08-27 00:20:00         121.506          31.269   \n",
       "1023601            31.298 2016-08-27 00:19:00         121.539          31.290   \n",
       "1023602            31.104 2016-08-27 00:11:00         121.353          31.098   \n",
       "\n",
       "                                                     track  weekday  \n",
       "0        121.485,31.275#121.485,31.276#121.486,31.273#1...        7  \n",
       "1        121.455,31.313#121.455,31.314#121.455,31.315#1...        7  \n",
       "2        121.416,31.154#121.416,31.155#121.417,31.155#1...        7  \n",
       "3        121.436,31.318#121.436,31.319#121.436,31.320#1...        7  \n",
       "4        121.459,31.315#121.459,31.316#121.459,31.317#1...        7  \n",
       "...                                                    ...      ...  \n",
       "1023598  121.450,31.325#121.450,31.326#121.451,31.326#1...        6  \n",
       "1023599  121.422,31.274#121.422,31.275#121.422,31.278#1...        6  \n",
       "1023600  121.503,31.272#121.503,31.273#121.504,31.271#1...        5  \n",
       "1023601  121.532,31.298#121.533,31.298#121.533,31.299#1...        6  \n",
       "1023602       121.367,31.103#121.367,31.104#121.367,31.105        5  \n",
       "\n",
       "[1023603 rows x 11 columns]"
      ]
     },
     "execution_count": 19,
     "metadata": {},
     "output_type": "execute_result"
    }
   ],
   "source": [
    "df['weekday'] = df['start_time'].dt.weekday + 1\n",
    "df"
   ]
  },
  {
   "cell_type": "markdown",
   "metadata": {},
   "source": [
    "---\n",
    "\n",
    "**Q15** - create a new column `time` containing the number of seconds elapsed since the beginning of the day and make a histogram of it :"
   ]
  },
  {
   "cell_type": "code",
   "execution_count": 20,
   "metadata": {},
   "outputs": [
    {
     "data": {
      "text/plain": [
       "<AxesSubplot:ylabel='Frequency'>"
      ]
     },
     "execution_count": 20,
     "metadata": {},
     "output_type": "execute_result"
    },
    {
     "data": {
      "image/png": "[encoded data removed]",
      "text/plain": [
       "<Figure size 720x720 with 1 Axes>"
      ]
     },
     "metadata": {
      "needs_background": "light"
     },
     "output_type": "display_data"
    }
   ],
   "source": [
    "df['time'] = df.start_time.dt.hour * 3600 + df.start_time.dt.minute * 60 + df.start_time.dt.second\n",
    "df.time.plot(kind = 'hist', figsize = (10,10))"
   ]
  },
  {
   "cell_type": "markdown",
   "metadata": {},
   "source": [
    "---\n",
    "\n",
    "**Q16** - split one day into 100 intervals of equal length and store the interval `id` in a new column called `intervals`. Make a histogram of it with 50 bins:"
   ]
  },
  {
   "cell_type": "code",
   "execution_count": 21,
   "metadata": {},
   "outputs": [
    {
     "data": {
      "text/plain": [
       "<AxesSubplot:ylabel='Frequency'>"
      ]
     },
     "execution_count": 21,
     "metadata": {},
     "output_type": "execute_result"
    },
    {
     "data": {
      "image/png": "[encoded data removed]",
      "text/plain": [
       "<Figure size 720x720 with 1 Axes>"
      ]
     },
     "metadata": {
      "needs_background": "light"
     },
     "output_type": "display_data"
    }
   ],
   "source": [
    "df['intervals'] = (df.time / 864).apply(int)\n",
    "df.intervals.plot(kind = 'hist', figsize = (10,10))"
   ]
  },
  {
   "cell_type": "markdown",
   "metadata": {},
   "source": [
    "---\n",
    "\n",
    "**Q17** - read the code below and execute it :"
   ]
  },
  {
   "cell_type": "code",
   "execution_count": 22,
   "metadata": {},
   "outputs": [
    {
     "data": {
      "text/plain": [
       "<seaborn.axisgrid.FacetGrid at 0x7fc540f59c10>"
      ]
     },
     "execution_count": 22,
     "metadata": {},
     "output_type": "execute_result"
    },
    {
     "data": {
      "image/png": "[encoded data removed]",
      "text/plain": [
       "<Figure size 2700x1260 with 7 Axes>"
      ]
     },
     "metadata": {},
     "output_type": "display_data"
    }
   ],
   "source": [
    "import numpy as np\n",
    "import pandas as pd\n",
    "import seaborn as sns\n",
    "import matplotlib.pyplot as plt\n",
    "sns.set_theme(style=\"white\", rc={\"axes.facecolor\": (0, 0, 0, 0)})\n",
    "\n",
    "# Initialize the FacetGrid object\n",
    "pal = sns.cubehelix_palette(10, rot=-.25, light=.7)\n",
    "g = sns.FacetGrid(df, row=\"weekday\", hue=\"weekday\", aspect=15, height=2.5, palette=pal)\n",
    "\n",
    "# Draw the densities in a few steps\n",
    "g.map(sns.kdeplot, \"time\",\n",
    "      bw_adjust=.5, clip_on=False,\n",
    "      fill=True, alpha=1, linewidth=1.5)\n",
    "g.map(sns.kdeplot, \"time\", clip_on=False, color=\"w\", lw=2, bw_adjust=.5)\n",
    "g.map(plt.axhline, y=0, lw=2, clip_on=False)\n",
    "\n",
    "\n",
    "# Define and use a simple function to label the plot in axes coordinates\n",
    "def label(x, color, label):\n",
    "    ax = plt.gca()\n",
    "    ax.text(0, .2, label, fontweight=\"bold\", color=color,\n",
    "            ha=\"left\", va=\"center\", transform=ax.transAxes)\n",
    "\n",
    "\n",
    "g.map(label, \"time\")\n",
    "\n",
    "# Set the subplots to overlap\n",
    "g.fig.subplots_adjust(hspace=-.25)\n",
    "\n",
    "# Remove axes details that don't play well with overlap\n",
    "g.set_titles(\"\")\n",
    "g.set(yticks=[])\n",
    "g.despine(bottom=True, left=True)\n"
   ]
  },
  {
   "cell_type": "markdown",
   "metadata": {},
   "source": [
    "---\n",
    "\n",
    "**Q18** - count how many time a single bike is used in average:"
   ]
  },
  {
   "cell_type": "code",
   "execution_count": 23,
   "metadata": {},
   "outputs": [
    {
     "data": {
      "text/plain": [
       "3.3349069512862615"
      ]
     },
     "execution_count": 23,
     "metadata": {},
     "output_type": "execute_result"
    }
   ],
   "source": [
    "df.groupby(['bikeid'])['orderid'].count().mean()"
   ]
  },
  {
   "cell_type": "markdown",
   "metadata": {},
   "source": [
    "---\n",
    "\n",
    "**Q19** - how many time does a single user used mobike on a per day basis during this month in average? plot it with `kde` function and display the top 10 user with max daily usage :"
   ]
  },
  {
   "cell_type": "code",
   "execution_count": 24,
   "metadata": {},
   "outputs": [
    {
     "data": {
      "text/plain": [
       "<AxesSubplot:ylabel='Density'>"
      ]
     },
     "execution_count": 24,
     "metadata": {},
     "output_type": "execute_result"
    },
    {
     "data": {
      "image/png": "[encoded data removed]",
      "text/plain": [
       "<Figure size 432x288 with 1 Axes>"
      ]
     },
     "metadata": {},
     "output_type": "display_data"
    }
   ],
   "source": [
    "(df.groupby(['userid'])['orderid'].count()/7).plot(kind = 'kde')"
   ]
  },
  {
   "cell_type": "code",
   "execution_count": 25,
   "metadata": {},
   "outputs": [
    {
     "data": {
      "text/plain": [
       "[2240, 7207, 4906, 6044, 3369, 5305, 1455, 3984, 1004, 7045]"
      ]
     },
     "execution_count": 25,
     "metadata": {},
     "output_type": "execute_result"
    }
   ],
   "source": [
    "df.groupby(['userid'])['orderid'].count().sort_values(ascending = False).head(10).index.to_list()"
   ]
  },
  {
   "cell_type": "markdown",
   "metadata": {},
   "source": [
    "---\n",
    "\n",
    "**Q20**  create a dataframe from a sql query to weibo database with pandas to get the location name and total_checking_count where people got birthday party:"
   ]
  },
  {
   "cell_type": "code",
   "execution_count": 26,
   "metadata": {},
   "outputs": [],
   "source": [
    "import sqlite3\n",
    "\n",
    "file = '/Users/raymond/ScriptJupyterLab/data_analyse/homework/data/UTSEUS-shanghai-weibo-2012.db'\n",
    "conn = sqlite3.connect(file)\n",
    "query = \"\"\"\n",
    "SELECT \n",
    "    title, total_checkin_count\n",
    "FROM\n",
    "    weibo_location wl\n",
    "JOIN \n",
    "    weibo_status ws\n",
    "ON\n",
    "    ws.weibo_location_id = wl.weibo_location_id\n",
    "WHERE\n",
    "    ws.status like '%happy birthday%' or \n",
    "    ws.status like '%生日快乐%'\n",
    "GROUP BY\n",
    "    title\n",
    "HAVING\n",
    "    total_checkin_count != 'NaN'\n",
    "ORDER BY \n",
    "    total_checkin_count DESC\n",
    "\"\"\"\n",
    "df_wb = pd.read_sql(query,conn)"
   ]
  },
  {
   "cell_type": "code",
   "execution_count": 27,
   "metadata": {},
   "outputs": [
    {
     "data": {
      "text/html": [
       "<div>\n",
       "<style scoped>\n",
       "    .dataframe tbody tr th:only-of-type {\n",
       "        vertical-align: middle;\n",
       "    }\n",
       "\n",
       "    .dataframe tbody tr th {\n",
       "        vertical-align: top;\n",
       "    }\n",
       "\n",
       "    .dataframe thead th {\n",
       "        text-align: right;\n",
       "    }\n",
       "</style>\n",
       "<table border=\"1\" class=\"dataframe\">\n",
       "  <thead>\n",
       "    <tr style=\"text-align: right;\">\n",
       "      <th></th>\n",
       "      <th>title</th>\n",
       "      <th>total_checkin_count</th>\n",
       "    </tr>\n",
       "  </thead>\n",
       "  <tbody>\n",
       "    <tr>\n",
       "      <th>0</th>\n",
       "      <td>2013跨年演唱会聚集地</td>\n",
       "      <td>55415</td>\n",
       "    </tr>\n",
       "    <tr>\n",
       "      <th>1</th>\n",
       "      <td>上海国金中心IFC</td>\n",
       "      <td>24901</td>\n",
       "    </tr>\n",
       "    <tr>\n",
       "      <th>2</th>\n",
       "      <td>虹口龙之梦</td>\n",
       "      <td>19857</td>\n",
       "    </tr>\n",
       "    <tr>\n",
       "      <th>3</th>\n",
       "      <td>日月光中心广场</td>\n",
       "      <td>19043</td>\n",
       "    </tr>\n",
       "    <tr>\n",
       "      <th>4</th>\n",
       "      <td>上海城隍庙</td>\n",
       "      <td>15126</td>\n",
       "    </tr>\n",
       "    <tr>\n",
       "      <th>...</th>\n",
       "      <td>...</td>\n",
       "      <td>...</td>\n",
       "    </tr>\n",
       "    <tr>\n",
       "      <th>2034</th>\n",
       "      <td>赤坂亭餐饮管理有限公司</td>\n",
       "      <td>1</td>\n",
       "    </tr>\n",
       "    <tr>\n",
       "      <th>2035</th>\n",
       "      <td>福朋喜来登大酒店</td>\n",
       "      <td>1</td>\n",
       "    </tr>\n",
       "    <tr>\n",
       "      <th>2036</th>\n",
       "      <td>家</td>\n",
       "      <td>1</td>\n",
       "    </tr>\n",
       "    <tr>\n",
       "      <th>2037</th>\n",
       "      <td>三湘花苑东苑停车场</td>\n",
       "      <td>1</td>\n",
       "    </tr>\n",
       "    <tr>\n",
       "      <th>2038</th>\n",
       "      <td>Muse Club</td>\n",
       "      <td>1</td>\n",
       "    </tr>\n",
       "  </tbody>\n",
       "</table>\n",
       "<p>2039 rows × 2 columns</p>\n",
       "</div>"
      ],
      "text/plain": [
       "             title  total_checkin_count\n",
       "0     2013跨年演唱会聚集地                55415\n",
       "1        上海国金中心IFC                24901\n",
       "2            虹口龙之梦                19857\n",
       "3          日月光中心广场                19043\n",
       "4            上海城隍庙                15126\n",
       "...            ...                  ...\n",
       "2034   赤坂亭餐饮管理有限公司                    1\n",
       "2035      福朋喜来登大酒店                    1\n",
       "2036             家                    1\n",
       "2037     三湘花苑东苑停车场                    1\n",
       "2038     Muse Club                    1\n",
       "\n",
       "[2039 rows x 2 columns]"
      ]
     },
     "execution_count": 27,
     "metadata": {},
     "output_type": "execute_result"
    }
   ],
   "source": [
    "df_wb"
   ]
  },
  {
   "cell_type": "markdown",
   "metadata": {},
   "source": [
    "---\n",
    "\n",
    "**Q21**  split this dataset randomly into a training set with 75% of the rows and a testing set with 25% of the rows. print their size."
   ]
  },
  {
   "cell_type": "code",
   "execution_count": 28,
   "metadata": {},
   "outputs": [
    {
     "name": "stdout",
     "output_type": "stream",
     "text": [
      "510 1529\n"
     ]
    }
   ],
   "source": [
    "nbtrain = round(len(df_wb)*0.75)\n",
    "nbtest = len(df_wb)-nbtrain\n",
    "nbdata = len(df_wb)\n",
    "train_index = np.hstack((np.zeros(nbtest),np.ones(nbtrain)))\n",
    "np.random.shuffle(train_index)\n",
    "df_train = df_wb[train_index == 1]\n",
    "df_test = df_wb[train_index == 0]\n",
    "print(len(df_test),len(df_train))"
   ]
  },
  {
   "cell_type": "code",
   "execution_count": 29,
   "metadata": {},
   "outputs": [
    {
     "data": {
      "text/html": [
       "<div>\n",
       "<style scoped>\n",
       "    .dataframe tbody tr th:only-of-type {\n",
       "        vertical-align: middle;\n",
       "    }\n",
       "\n",
       "    .dataframe tbody tr th {\n",
       "        vertical-align: top;\n",
       "    }\n",
       "\n",
       "    .dataframe thead th {\n",
       "        text-align: right;\n",
       "    }\n",
       "</style>\n",
       "<table border=\"1\" class=\"dataframe\">\n",
       "  <thead>\n",
       "    <tr style=\"text-align: right;\">\n",
       "      <th></th>\n",
       "      <th>title</th>\n",
       "      <th>total_checkin_count</th>\n",
       "    </tr>\n",
       "  </thead>\n",
       "  <tbody>\n",
       "    <tr>\n",
       "      <th>0</th>\n",
       "      <td>2013跨年演唱会聚集地</td>\n",
       "      <td>55415</td>\n",
       "    </tr>\n",
       "    <tr>\n",
       "      <th>2</th>\n",
       "      <td>虹口龙之梦</td>\n",
       "      <td>19857</td>\n",
       "    </tr>\n",
       "    <tr>\n",
       "      <th>3</th>\n",
       "      <td>日月光中心广场</td>\n",
       "      <td>19043</td>\n",
       "    </tr>\n",
       "    <tr>\n",
       "      <th>4</th>\n",
       "      <td>上海城隍庙</td>\n",
       "      <td>15126</td>\n",
       "    </tr>\n",
       "    <tr>\n",
       "      <th>5</th>\n",
       "      <td>外滩</td>\n",
       "      <td>15120</td>\n",
       "    </tr>\n",
       "    <tr>\n",
       "      <th>...</th>\n",
       "      <td>...</td>\n",
       "      <td>...</td>\n",
       "    </tr>\n",
       "    <tr>\n",
       "      <th>2032</th>\n",
       "      <td>上海市执业药师协会(柳州路)</td>\n",
       "      <td>2</td>\n",
       "    </tr>\n",
       "    <tr>\n",
       "      <th>2033</th>\n",
       "      <td>Soho(苏荷)</td>\n",
       "      <td>2</td>\n",
       "    </tr>\n",
       "    <tr>\n",
       "      <th>2035</th>\n",
       "      <td>福朋喜来登大酒店</td>\n",
       "      <td>1</td>\n",
       "    </tr>\n",
       "    <tr>\n",
       "      <th>2036</th>\n",
       "      <td>家</td>\n",
       "      <td>1</td>\n",
       "    </tr>\n",
       "    <tr>\n",
       "      <th>2037</th>\n",
       "      <td>三湘花苑东苑停车场</td>\n",
       "      <td>1</td>\n",
       "    </tr>\n",
       "  </tbody>\n",
       "</table>\n",
       "<p>1529 rows × 2 columns</p>\n",
       "</div>"
      ],
      "text/plain": [
       "               title  total_checkin_count\n",
       "0       2013跨年演唱会聚集地                55415\n",
       "2              虹口龙之梦                19857\n",
       "3            日月光中心广场                19043\n",
       "4              上海城隍庙                15126\n",
       "5                 外滩                15120\n",
       "...              ...                  ...\n",
       "2032  上海市执业药师协会(柳州路)                    2\n",
       "2033        Soho(苏荷)                    2\n",
       "2035        福朋喜来登大酒店                    1\n",
       "2036               家                    1\n",
       "2037       三湘花苑东苑停车场                    1\n",
       "\n",
       "[1529 rows x 2 columns]"
      ]
     },
     "execution_count": 29,
     "metadata": {},
     "output_type": "execute_result"
    }
   ],
   "source": [
    "df_train"
   ]
  },
  {
   "cell_type": "code",
   "execution_count": 30,
   "metadata": {},
   "outputs": [
    {
     "data": {
      "text/html": [
       "<div>\n",
       "<style scoped>\n",
       "    .dataframe tbody tr th:only-of-type {\n",
       "        vertical-align: middle;\n",
       "    }\n",
       "\n",
       "    .dataframe tbody tr th {\n",
       "        vertical-align: top;\n",
       "    }\n",
       "\n",
       "    .dataframe thead th {\n",
       "        text-align: right;\n",
       "    }\n",
       "</style>\n",
       "<table border=\"1\" class=\"dataframe\">\n",
       "  <thead>\n",
       "    <tr style=\"text-align: right;\">\n",
       "      <th></th>\n",
       "      <th>title</th>\n",
       "      <th>total_checkin_count</th>\n",
       "    </tr>\n",
       "  </thead>\n",
       "  <tbody>\n",
       "    <tr>\n",
       "      <th>1</th>\n",
       "      <td>上海国金中心IFC</td>\n",
       "      <td>24901</td>\n",
       "    </tr>\n",
       "    <tr>\n",
       "      <th>8</th>\n",
       "      <td>上海环球金融中心</td>\n",
       "      <td>13188</td>\n",
       "    </tr>\n",
       "    <tr>\n",
       "      <th>10</th>\n",
       "      <td>新华医院</td>\n",
       "      <td>11136</td>\n",
       "    </tr>\n",
       "    <tr>\n",
       "      <th>11</th>\n",
       "      <td>龙之梦购物中心</td>\n",
       "      <td>10687</td>\n",
       "    </tr>\n",
       "    <tr>\n",
       "      <th>14</th>\n",
       "      <td>虹口足球场</td>\n",
       "      <td>9464</td>\n",
       "    </tr>\n",
       "    <tr>\n",
       "      <th>...</th>\n",
       "      <td>...</td>\n",
       "      <td>...</td>\n",
       "    </tr>\n",
       "    <tr>\n",
       "      <th>2026</th>\n",
       "      <td>上海银行自忠支行</td>\n",
       "      <td>4</td>\n",
       "    </tr>\n",
       "    <tr>\n",
       "      <th>2029</th>\n",
       "      <td>上海市浦东新区张扬北路</td>\n",
       "      <td>3</td>\n",
       "    </tr>\n",
       "    <tr>\n",
       "      <th>2031</th>\n",
       "      <td>龙象建设集团</td>\n",
       "      <td>2</td>\n",
       "    </tr>\n",
       "    <tr>\n",
       "      <th>2034</th>\n",
       "      <td>赤坂亭餐饮管理有限公司</td>\n",
       "      <td>1</td>\n",
       "    </tr>\n",
       "    <tr>\n",
       "      <th>2038</th>\n",
       "      <td>Muse Club</td>\n",
       "      <td>1</td>\n",
       "    </tr>\n",
       "  </tbody>\n",
       "</table>\n",
       "<p>510 rows × 2 columns</p>\n",
       "</div>"
      ],
      "text/plain": [
       "            title  total_checkin_count\n",
       "1       上海国金中心IFC                24901\n",
       "8        上海环球金融中心                13188\n",
       "10           新华医院                11136\n",
       "11        龙之梦购物中心                10687\n",
       "14          虹口足球场                 9464\n",
       "...           ...                  ...\n",
       "2026     上海银行自忠支行                    4\n",
       "2029  上海市浦东新区张扬北路                    3\n",
       "2031       龙象建设集团                    2\n",
       "2034  赤坂亭餐饮管理有限公司                    1\n",
       "2038    Muse Club                    1\n",
       "\n",
       "[510 rows x 2 columns]"
      ]
     },
     "execution_count": 30,
     "metadata": {},
     "output_type": "execute_result"
    }
   ],
   "source": [
    "df_test"
   ]
  },
  {
   "cell_type": "markdown",
   "metadata": {},
   "source": [
    "---\n",
    "\n",
    "**Q22** split this dataset with only the top 10% result according to the total_checking count"
   ]
  },
  {
   "cell_type": "code",
   "execution_count": 31,
   "metadata": {},
   "outputs": [
    {
     "data": {
      "text/html": [
       "<div>\n",
       "<style scoped>\n",
       "    .dataframe tbody tr th:only-of-type {\n",
       "        vertical-align: middle;\n",
       "    }\n",
       "\n",
       "    .dataframe tbody tr th {\n",
       "        vertical-align: top;\n",
       "    }\n",
       "\n",
       "    .dataframe thead th {\n",
       "        text-align: right;\n",
       "    }\n",
       "</style>\n",
       "<table border=\"1\" class=\"dataframe\">\n",
       "  <thead>\n",
       "    <tr style=\"text-align: right;\">\n",
       "      <th></th>\n",
       "      <th>title</th>\n",
       "      <th>total_checkin_count</th>\n",
       "    </tr>\n",
       "  </thead>\n",
       "  <tbody>\n",
       "    <tr>\n",
       "      <th>0</th>\n",
       "      <td>2013跨年演唱会聚集地</td>\n",
       "      <td>55415</td>\n",
       "    </tr>\n",
       "    <tr>\n",
       "      <th>1</th>\n",
       "      <td>上海国金中心IFC</td>\n",
       "      <td>24901</td>\n",
       "    </tr>\n",
       "    <tr>\n",
       "      <th>2</th>\n",
       "      <td>虹口龙之梦</td>\n",
       "      <td>19857</td>\n",
       "    </tr>\n",
       "    <tr>\n",
       "      <th>3</th>\n",
       "      <td>日月光中心广场</td>\n",
       "      <td>19043</td>\n",
       "    </tr>\n",
       "    <tr>\n",
       "      <th>4</th>\n",
       "      <td>上海城隍庙</td>\n",
       "      <td>15126</td>\n",
       "    </tr>\n",
       "    <tr>\n",
       "      <th>5</th>\n",
       "      <td>外滩</td>\n",
       "      <td>15120</td>\n",
       "    </tr>\n",
       "    <tr>\n",
       "      <th>6</th>\n",
       "      <td>大悦城</td>\n",
       "      <td>13763</td>\n",
       "    </tr>\n",
       "    <tr>\n",
       "      <th>7</th>\n",
       "      <td>宜家家居IKEA(徐汇商场)</td>\n",
       "      <td>13649</td>\n",
       "    </tr>\n",
       "    <tr>\n",
       "      <th>8</th>\n",
       "      <td>上海环球金融中心</td>\n",
       "      <td>13188</td>\n",
       "    </tr>\n",
       "    <tr>\n",
       "      <th>9</th>\n",
       "      <td>新天地</td>\n",
       "      <td>12443</td>\n",
       "    </tr>\n",
       "  </tbody>\n",
       "</table>\n",
       "</div>"
      ],
      "text/plain": [
       "            title  total_checkin_count\n",
       "0    2013跨年演唱会聚集地                55415\n",
       "1       上海国金中心IFC                24901\n",
       "2           虹口龙之梦                19857\n",
       "3         日月光中心广场                19043\n",
       "4           上海城隍庙                15126\n",
       "5              外滩                15120\n",
       "6             大悦城                13763\n",
       "7  宜家家居IKEA(徐汇商场)                13649\n",
       "8        上海环球金融中心                13188\n",
       "9             新天地                12443"
      ]
     },
     "execution_count": 31,
     "metadata": {},
     "output_type": "execute_result"
    }
   ],
   "source": [
    "df_top10 = df_wb.head(10)\n",
    "df_top10"
   ]
  },
  {
   "cell_type": "code",
   "execution_count": null,
   "metadata": {},
   "outputs": [],
   "source": []
  },
  {
   "cell_type": "code",
   "execution_count": null,
   "metadata": {},
   "outputs": [],
   "source": []
  },
  {
   "cell_type": "code",
   "execution_count": null,
   "metadata": {},
   "outputs": [],
   "source": []
  }
 ],
 "metadata": {
  "kernelspec": {
   "display_name": "Python 3",
   "language": "python",
   "name": "python3"
  },
  "language_info": {
   "codemirror_mode": {
    "name": "ipython",
    "version": 3
   },
   "file_extension": ".py",
   "mimetype": "text/x-python",
   "name": "python",
   "nbconvert_exporter": "python",
   "pygments_lexer": "ipython3",
   "version": "3.9.0"
  }
 },
 "nbformat": 4,
 "nbformat_minor": 4
}
