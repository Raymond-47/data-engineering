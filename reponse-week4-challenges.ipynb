{
 "cells": [
  {
   "cell_type": "markdown",
   "metadata": {},
   "source": [
    "# SQL, a primer\n",
    "\n",
    "## ERD Diagram\n",
    "\n",
    "draw a ER diagram of the database and paste the screen shot here. \n",
    "\n",
    "you can use [this online editor for example](https://online.visual-paradigm.com/diagrams/solutions/free-erd-editor-online/)\n",
    "\n",
    "## Query the database\n",
    "\n",
    "### Simple Query\n",
    "\n",
    "🤔 display the records of the table weibo_status (fetchall)"
   ]
  },
  {
   "cell_type": "code",
   "execution_count": 1,
   "metadata": {},
   "outputs": [],
   "source": [
    "import sqlite3\n",
    "\n",
    "conn = sqlite3.connect('../data/UTSEUS-shanghai-weibo-2012.db')\n",
    "c = conn.cursor()"
   ]
  },
  {
   "cell_type": "code",
   "execution_count": 2,
   "metadata": {},
   "outputs": [
    {
     "data": {
      "text/plain": [
       "[(3513796771294526,\n",
       "  '吃火锅啦 我在#洪长兴羊肉馆(云南南路店)# http://t.cn/zOeOmRM',\n",
       "  1153054312,\n",
       "  34647,\n",
       "  '2012-11-18 19:24:56+08',\n",
       "  None),\n",
       " (3514061394691877,\n",
       "  '我要回来啦！！！阳光明媚啊！ 我在#大连周水子国际机场# http://t.cn/zOrpZiP',\n",
       "  2883949090,\n",
       "  19848,\n",
       "  '2012-11-19 12:56:27+08',\n",
       "  None),\n",
       " (3517373581677145,\n",
       "  '不要散布你的困惑和苦厄，更不要炫耀你的幸福和喜乐。那只会使它们变得廉价。做个有骨气的人，戴一副合法的表情，纵有千言万语，只与自己说。 我在#新葡京娱乐场# http://t.cn/zj5w1zd',\n",
       "  2287099050,\n",
       "  32214,\n",
       "  '2012-11-28 16:17:55+08',\n",
       "  None),\n",
       " (3518848299203707,\n",
       "  'The food just so so here [围脖] 我在#首尔焖鲜汇# http://t.cn/zjtAtq9',\n",
       "  1765471642,\n",
       "  2214,\n",
       "  '2012-12-02 17:57:53+08',\n",
       "  None),\n",
       " (3518909267803148,\n",
       "  '老公和同事饭局间作一打游诗:我坐2 号头，你坐2号尾， 日日思君不见君，共坐2号轨。致静安女和张江男。 我在这里：http://t.cn/zlQbJ1x',\n",
       "  2709940290,\n",
       "  31412,\n",
       "  '2012-12-02 22:00:10+08',\n",
       "  None)]"
      ]
     },
     "execution_count": 2,
     "metadata": {},
     "output_type": "execute_result"
    }
   ],
   "source": [
    "query = '''\n",
    "SELECT \n",
    "    * \n",
    "FROM \n",
    "    weibo_status \n",
    "'''\n",
    "c.execute(query)\n",
    "rows = c.fetchall()\n",
    "rows[:5]"
   ]
  },
  {
   "cell_type": "markdown",
   "metadata": {},
   "source": [
    "🤔 display the first 5 records of the table weibo_status (fetchone, limit)"
   ]
  },
  {
   "cell_type": "code",
   "execution_count": 3,
   "metadata": {},
   "outputs": [
    {
     "data": {
      "text/plain": [
       "5"
      ]
     },
     "execution_count": 3,
     "metadata": {},
     "output_type": "execute_result"
    }
   ],
   "source": [
    "query = '''\n",
    "SELECT \n",
    "    * \n",
    "FROM \n",
    "    weibo_status \n",
    "LIMIT 5 \n",
    "'''\n",
    "c.execute(query)\n",
    "rows = c.fetchall()\n",
    "len(rows)"
   ]
  },
  {
   "cell_type": "markdown",
   "metadata": {},
   "source": [
    "### query with projection\n",
    "\n",
    "🤔 display the columns with the status text and the date from weibo_status "
   ]
  },
  {
   "cell_type": "code",
   "execution_count": 4,
   "metadata": {},
   "outputs": [
    {
     "data": {
      "text/plain": [
       "[('2012-11-18 19:24:56+08', '吃火锅啦 我在#洪长兴羊肉馆(云南南路店)# http://t.cn/zOeOmRM')]"
      ]
     },
     "execution_count": 4,
     "metadata": {},
     "output_type": "execute_result"
    }
   ],
   "source": [
    "query = '''\n",
    "SELECT created_at, status\n",
    "FROM weibo_status\n",
    "LIMIT 1\n",
    "'''\n",
    "c.execute(query)\n",
    "rows = c.fetchall()\n",
    "rows"
   ]
  },
  {
   "cell_type": "markdown",
   "metadata": {},
   "source": [
    "🤔 display the description and gender from the table weibo_user __*renamed into `wu`*__"
   ]
  },
  {
   "cell_type": "code",
   "execution_count": 5,
   "metadata": {},
   "outputs": [
    {
     "data": {
      "text/plain": [
       "('是非浑不分，何堪辨世事', 'f')"
      ]
     },
     "execution_count": 5,
     "metadata": {},
     "output_type": "execute_result"
    }
   ],
   "source": [
    "query = '''\n",
    "SELECT\n",
    "    wu.description, wu.gender\n",
    "FROM \n",
    "    weibo_user wu\n",
    "'''\n",
    "c.execute(query)\n",
    "rows = c.fetchall()\n",
    "rows[0]"
   ]
  },
  {
   "cell_type": "markdown",
   "metadata": {},
   "source": [
    "🤔 display only the description from the table weibo_user but __rename the column `desc` instead of `description`__"
   ]
  },
  {
   "cell_type": "code",
   "execution_count": 6,
   "metadata": {},
   "outputs": [
    {
     "data": {
      "text/plain": [
       "'是非浑不分，何堪辨世事'"
      ]
     },
     "execution_count": 6,
     "metadata": {},
     "output_type": "execute_result"
    }
   ],
   "source": [
    "import sqlite3\n",
    "\n",
    "conn = sqlite3.connect('../data/UTSEUS-shanghai-weibo-2012.db')\n",
    "conn.row_factory = sqlite3.Row\n",
    "c = conn.cursor()\n",
    "\n",
    "query = '''\n",
    "SELECT \n",
    "    description as \"desc\"\n",
    "FROM \n",
    "    weibo_user\n",
    "'''\n",
    "c.execute(query)\n",
    "rows = c.fetchall()\n",
    "rows[0]['desc']"
   ]
  },
  {
   "cell_type": "markdown",
   "metadata": {},
   "source": [
    "### query with selection\n",
    "\n",
    "🤔 Select all the points of interests (POI) in jufengyuan road from the table weibo_location"
   ]
  },
  {
   "cell_type": "code",
   "execution_count": 7,
   "metadata": {},
   "outputs": [],
   "source": [
    "import sqlite3\n",
    "\n",
    "conn = sqlite3.connect('../data/UTSEUS-shanghai-weibo-2012.db')\n",
    "c = conn.cursor()"
   ]
  },
  {
   "cell_type": "code",
   "execution_count": 8,
   "metadata": {},
   "outputs": [
    {
     "data": {
      "text/plain": [
       "52"
      ]
     },
     "execution_count": 8,
     "metadata": {},
     "output_type": "execute_result"
    }
   ],
   "source": [
    "query = '''\n",
    "SELECT \n",
    "    *\n",
    "FROM \n",
    "    weibo_location\n",
    "WHERE \n",
    "    street = \"上海市聚丰园路\"\n",
    "'''\n",
    "c.execute(query)\n",
    "rows = c.fetchall()\n",
    "len(rows)"
   ]
  },
  {
   "cell_type": "markdown",
   "metadata": {},
   "source": [
    "🤔 Select all the shops around century park: bounding box __top left__ `121.5276, 31.2256` and __bottom right__ `121.5705, 31.2097`"
   ]
  },
  {
   "cell_type": "code",
   "execution_count": 9,
   "metadata": {},
   "outputs": [
    {
     "data": {
      "text/plain": [
       "18"
      ]
     },
     "execution_count": 9,
     "metadata": {},
     "output_type": "execute_result"
    }
   ],
   "source": [
    "query = '''\n",
    "SELECT title \n",
    "    \n",
    "FROM weibo_location \n",
    "WHERE \n",
    "    longitude <= 121.5705 and \n",
    "    longitude >= 121.5276 and \n",
    "    latitude >=31.2097 and \n",
    "    latitude <=31.2256 and \n",
    "    (category_en_name like '%shop%' or category_en_name like '%store%')\n",
    "'''\n",
    "c.execute(query)\n",
    "rows = c.fetchall()\n",
    "len(rows)"
   ]
  },
  {
   "cell_type": "markdown",
   "metadata": {},
   "source": [
    "🤔 Select all the message where the text contains `happy` "
   ]
  },
  {
   "cell_type": "code",
   "execution_count": 10,
   "metadata": {},
   "outputs": [
    {
     "data": {
      "text/plain": [
       "13421"
      ]
     },
     "execution_count": 10,
     "metadata": {},
     "output_type": "execute_result"
    }
   ],
   "source": [
    "query = '''\n",
    "SELECT \n",
    "    status\n",
    "FROM\n",
    "    weibo_status\n",
    "WHERE\n",
    "    status like '%happy%' or status like '%快乐%'\n",
    "'''\n",
    "c.execute(query)\n",
    "rows = c.fetchall()\n",
    "len(rows)"
   ]
  },
  {
   "cell_type": "markdown",
   "metadata": {},
   "source": [
    "🤔 Select all the message where the text contains `happy` or `sad` "
   ]
  },
  {
   "cell_type": "code",
   "execution_count": 11,
   "metadata": {},
   "outputs": [
    {
     "data": {
      "text/plain": [
       "15991"
      ]
     },
     "execution_count": 11,
     "metadata": {},
     "output_type": "execute_result"
    }
   ],
   "source": [
    "query = '''\n",
    "SELECT \n",
    "    status\n",
    "FROM\n",
    "    weibo_status\n",
    "WHERE\n",
    "    status like '%happy%' or \n",
    "    status like '%快乐%' or \n",
    "    status like '%sad%' or \n",
    "    status like '%悲伤%' \n",
    "'''\n",
    "c.execute(query)\n",
    "rows = c.fetchall()\n",
    "len(rows)"
   ]
  },
  {
   "cell_type": "markdown",
   "metadata": {},
   "source": [
    "### query with counting\n",
    "\n",
    "🤔 what is the most popular word in the message, `happy` or `sad`?"
   ]
  },
  {
   "cell_type": "code",
   "execution_count": 12,
   "metadata": {},
   "outputs": [],
   "source": [
    "query = '''\n",
    "SELECT \n",
    "    COUNT(*)\n",
    "FROM\n",
    "    weibo_status\n",
    "WHERE\n",
    "    status like '%happy%' or \n",
    "    status like '%快乐%'  \n",
    "'''\n",
    "c.execute(query)\n",
    "happy_result = c.fetchone()[0]\n",
    "\n",
    "query = '''\n",
    "SELECT \n",
    "    COUNT(*)\n",
    "FROM\n",
    "    weibo_status\n",
    "WHERE \n",
    "    status like '%sad%' or \n",
    "    status like '%悲伤%' \n",
    "'''\n",
    "c.execute(query)\n",
    "sad_result = c.fetchone()[0]"
   ]
  },
  {
   "cell_type": "code",
   "execution_count": 13,
   "metadata": {},
   "outputs": [
    {
     "data": {
      "text/plain": [
       "'13421 people are happy and 2631 people are sad'"
      ]
     },
     "execution_count": 13,
     "metadata": {},
     "output_type": "execute_result"
    }
   ],
   "source": [
    "f'{happy_result} people are happy and {sad_result} people are sad'"
   ]
  },
  {
   "cell_type": "code",
   "execution_count": 14,
   "metadata": {},
   "outputs": [
    {
     "data": {
      "text/plain": [
       "'most people are happy! True or False: True'"
      ]
     },
     "execution_count": 14,
     "metadata": {},
     "output_type": "execute_result"
    }
   ],
   "source": [
    "f'most people are happy! True or False: {happy_result > sad_result}'"
   ]
  },
  {
   "cell_type": "markdown",
   "metadata": {},
   "source": [
    "### query with sorting\n",
    "\n",
    "🤔 show the top 10 coffee place according to their distinct user checkin count "
   ]
  },
  {
   "cell_type": "code",
   "execution_count": 15,
   "metadata": {},
   "outputs": [
    {
     "data": {
      "text/plain": [
       "[('星巴克(国贸360广场店)',),\n",
       " ('星巴克(新天地店)',),\n",
       " ('星巴克(来福士店)',),\n",
       " ('苏州中茵皇冠假日酒店',),\n",
       " ('星巴克咖啡美罗店',),\n",
       " ('古董花园 Antique Garden',),\n",
       " ('STARBUCKS COFFEE(大宁国际商业广场)',),\n",
       " ('星巴克咖啡(万达店)',),\n",
       " ('星巴克(龙之梦店)',),\n",
       " ('星巴克咖啡(南京路步行街)',)]"
      ]
     },
     "execution_count": 15,
     "metadata": {},
     "output_type": "execute_result"
    }
   ],
   "source": [
    "query = '''\n",
    "SELECT \n",
    "    title\n",
    "FROM\n",
    "    weibo_location\n",
    "WHERE\n",
    "    category_en_name = 'Café'\n",
    "ORDER BY \n",
    "    distinct_user_checkin_count DESC\n",
    "LIMIT 10\n",
    "'''\n",
    "c.execute(query)\n",
    "rows = c.fetchall()\n",
    "rows"
   ]
  },
  {
   "cell_type": "markdown",
   "metadata": {},
   "source": [
    "### query with grouping\n",
    "🤔 list the locations grouped by their english category name (remove the null and unknown categories)"
   ]
  },
  {
   "cell_type": "code",
   "execution_count": 16,
   "metadata": {},
   "outputs": [
    {
     "data": {
      "text/plain": [
       "[('ATM', 30), ('Activity', 8), ('Adult Education', 46)]"
      ]
     },
     "execution_count": 16,
     "metadata": {},
     "output_type": "execute_result"
    }
   ],
   "source": [
    "query = '''\n",
    "SELECT \n",
    "    category_en_name, COUNT(*)\n",
    "FROM\n",
    "    weibo_location\n",
    "WHERE\n",
    "    category_en_name not in (\"NULL\", \"Unknown Classification\")\n",
    "GROUP BY \n",
    "    category_en_name\n",
    "'''\n",
    "c.execute(query)\n",
    "rows = c.fetchall()\n",
    "rows[:3]"
   ]
  },
  {
   "cell_type": "markdown",
   "metadata": {},
   "source": [
    "🤔 list the top 10 locations english category names according to their count (remove the null and unknown categories)"
   ]
  },
  {
   "cell_type": "code",
   "execution_count": 17,
   "metadata": {},
   "outputs": [
    {
     "data": {
      "text/plain": [
       "[('Residences', 5004),\n",
       " ('Food & Drink', 2294),\n",
       " ('Fast-food restaurant', 2254),\n",
       " ('Bus Station', 1859),\n",
       " ('Buildings', 1763),\n",
       " ('Other', 1735),\n",
       " ('Door', 1340),\n",
       " ('Live Entertainment', 1212),\n",
       " ('Shanghai cuisine', 990),\n",
       " ('Company', 811)]"
      ]
     },
     "execution_count": 17,
     "metadata": {},
     "output_type": "execute_result"
    }
   ],
   "source": [
    "query = '''\n",
    "SELECT \n",
    "    category_en_name, COUNT(*) as total\n",
    "FROM\n",
    "    weibo_location\n",
    "WHERE\n",
    "    category_en_name not in (\"NULL\", \"Unknown Classification\")\n",
    "GROUP BY \n",
    "    category_en_name\n",
    "ORDER BY \n",
    "    total DESC\n",
    "LIMIT\n",
    "    10\n",
    "'''\n",
    "c.execute(query)\n",
    "rows = c.fetchall()\n",
    "rows"
   ]
  },
  {
   "cell_type": "markdown",
   "metadata": {},
   "source": [
    "🤔 list the top 10 locations english per street ordered by count. If the count is the same, order by the (category, street) having the most total checking"
   ]
  },
  {
   "cell_type": "code",
   "execution_count": 18,
   "metadata": {},
   "outputs": [
    {
     "data": {
      "text/plain": [
       "[('Food & Drink', '上海市南京西路', 32, 7810),\n",
       " ('Other', '上海市南京西路', 28, 8897),\n",
       " ('Residences', '上海市场中路', 28, 2851),\n",
       " ('Buildings', '上海市延安西路', 26, 6205),\n",
       " ('Residences', '上海市斜土路', 26, 1543),\n",
       " ('Food & Drink', '上海市华山路', 25, 3606),\n",
       " ('Fast-food restaurant', '上海市共和新路', 25, 2851),\n",
       " ('Food & Drink', '上海市共和新路', 25, 1940),\n",
       " ('Airport', '上海市浦东机场路', 24, 125554),\n",
       " ('Residences', '上海市共和新路', 24, 2415)]"
      ]
     },
     "execution_count": 18,
     "metadata": {},
     "output_type": "execute_result"
    }
   ],
   "source": [
    "query = '''\n",
    "SELECT \n",
    "    category_en_name, street, COUNT(*) as total, SUM(total_checkin_count) as checkin\n",
    "FROM\n",
    "    weibo_location\n",
    "WHERE\n",
    "    category_en_name not in (\"NULL\", \"Unknown Classification\")\n",
    "GROUP BY \n",
    "    category_en_name, street\n",
    "ORDER BY \n",
    "    total DESC, checkin DESC\n",
    "LIMIT\n",
    "    10\n",
    "'''\n",
    "c.execute(query)\n",
    "rows = c.fetchall()\n",
    "rows"
   ]
  },
  {
   "cell_type": "markdown",
   "metadata": {},
   "source": [
    "### query multiple tables\n",
    "🤔 select the top 10 location where people got birthday party"
   ]
  },
  {
   "cell_type": "code",
   "execution_count": 19,
   "metadata": {},
   "outputs": [
    {
     "data": {
      "text/plain": [
       "[('台北纯K Party', '上海市天山路', 12),\n",
       " ('唛歌时尚KTV(淮海中路店)', '上海市淮海中路', 11),\n",
       " ('银乐迪(虹口龙之梦店)', '上海市西江湾路', 10),\n",
       " ('Richy(复兴公园店)', '上海市重庆南路', 9),\n",
       " ('上海戏剧学院(莲花路校区)', '上海市莲花路', 9),\n",
       " ('MUSE', '上海市北京东路', 7),\n",
       " ('MUSE2', '上海市兴安路', 7),\n",
       " ('银乐迪', '上海市宜山路', 6),\n",
       " ('证大·大拇指广场', '上海市芳甸路', 6),\n",
       " ('大悦城', '上海市西藏北路', 6)]"
      ]
     },
     "execution_count": 19,
     "metadata": {},
     "output_type": "execute_result"
    }
   ],
   "source": [
    "query = '''\n",
    "SELECT \n",
    "    title, street, COUNT(*) as total\n",
    "FROM\n",
    "    weibo_status ws\n",
    "JOIN \n",
    "    weibo_location wl\n",
    "ON\n",
    "    ws.weibo_location_id = wl.weibo_location_id\n",
    "WHERE\n",
    "    status like '%happy birthday%' or \n",
    "    status like '%生日快乐%'\n",
    "GROUP BY\n",
    "    ws.weibo_location_id\n",
    "ORDER BY \n",
    "    total DESC\n",
    "LIMIT\n",
    "    10\n",
    "'''\n",
    "c.execute(query)\n",
    "rows = c.fetchall()\n",
    "rows"
   ]
  },
  {
   "cell_type": "markdown",
   "metadata": {},
   "source": [
    "🤔 select the top 10 favorite location where the top 500 most popular people"
   ]
  },
  {
   "cell_type": "code",
   "execution_count": 20,
   "metadata": {},
   "outputs": [
    {
     "data": {
      "text/plain": [
       "[('沪上一家辣肉面馆(成都北路店)', '上海市成都北路', 'Fast-food restaurant', 8),\n",
       " ('新天地', '上海市嵩山路', 'Other', 7),\n",
       " ('川杨新苑三期', '上海市孙环路', 'Residences', 7),\n",
       " ('幸福码头', '上海市中山南路', 'Residences', 7),\n",
       " ('上海明天广场JW万豪酒店', '上海市江阴路', 'Five-star hotel', 7),\n",
       " ('汇贤居(The Summit)', '上海市安福路', 'Residences', 5),\n",
       " ('镇坪路', '上海市镇坪路', 'Unknown Classification', 5),\n",
       " ('环球金融中心', '上海市东泰路', 'Unknown Classification', 5),\n",
       " ('张江科教园区', '上海市华佗路', 'Institutions of higher learning', 5),\n",
       " ('中国联通', '上海市文治路', 'Buildings', 5)]"
      ]
     },
     "execution_count": 20,
     "metadata": {},
     "output_type": "execute_result"
    }
   ],
   "source": [
    "query = '''\n",
    "SELECT \n",
    "    title, street, category_en_name, COUNT(*) as total\n",
    "FROM\n",
    "    weibo_status ws\n",
    "JOIN \n",
    "    weibo_location wl\n",
    "ON\n",
    "    ws.weibo_location_id = wl.weibo_location_id\n",
    "WHERE\n",
    "   ws.weibo_user_id in (\n",
    "       SELECT \n",
    "           weibo_user_id\n",
    "       FROM \n",
    "           weibo_user\n",
    "        ORDER BY\n",
    "            followers_count DESC\n",
    "        LIMIT\n",
    "            500\n",
    "   )\n",
    "GROUP BY\n",
    "    ws.weibo_location_id\n",
    "ORDER BY \n",
    "    total DESC\n",
    "LIMIT\n",
    "    10\n",
    "'''\n",
    "c.execute(query)\n",
    "rows = c.fetchall()\n",
    "rows"
   ]
  },
  {
   "cell_type": "markdown",
   "metadata": {},
   "source": [
    "🤔 THE FINAL QUERY\n",
    "1. select the top 50 favorite location where the 500 most popular woman go \n",
    "2. select the top 50 favorite location where the 500 most popular men go\n",
    "3. display the one they have in common and the one specific for each of these two genders orders by how many influencers go there"
   ]
  },
  {
   "cell_type": "markdown",
   "metadata": {},
   "source": [
    "#### 1"
   ]
  },
  {
   "cell_type": "code",
   "execution_count": 21,
   "metadata": {},
   "outputs": [
    {
     "data": {
      "text/plain": [
       "[('凤城三村', '上海市江浦路', 'Residences', 13),\n",
       " ('康泰新城', '上海市华灵路', 'Unknown Classification', 13),\n",
       " ('新天地', '上海市嵩山路', 'Other', 9),\n",
       " ('幸福码头', '上海市中山南路', 'Residences', 7),\n",
       " ('万源城朗郡', '上海市古龙路', 'Residences', 6),\n",
       " ('汤臣高尔夫别墅', '上海市龙东大道', 'Residences', 6),\n",
       " ('七韵美地苑', '上海市吴中路', 'Unknown Classification', 6),\n",
       " ('MUSE2', '上海市兴安路', 'Bar', 6),\n",
       " ('汇贤居(The Summit)', '上海市安福路', 'Residences', 5),\n",
       " ('南宜花苑', '上海市凯旋路', 'Residences', 5),\n",
       " ('镇坪路', '上海市镇坪路', 'Unknown Classification', 5),\n",
       " ('环球金融中心', '上海市东泰路', 'Unknown Classification', 5),\n",
       " ('馥邦中环广场', '上海市天山路', 'Market', 5),\n",
       " ('中国联通', '上海市文治路', 'Buildings', 5),\n",
       " ('上海外滩华尔道夫酒店(Waldorf Astoria Shanghai on the Bund)',\n",
       "  '上海市延安东路',\n",
       "  'Hotels, guest houses',\n",
       "  5),\n",
       " ('安居兰庭', '上海市兰溪路', 'Residences', 4),\n",
       " ('muse 2', '上海市兴安路', 'Other', 4),\n",
       " ('梅赛德斯奔驰文化中心音乐俱乐部', '上海市博成路', 'Unknown Classification', 4),\n",
       " ('星巴克(东樱花苑店)', '上海市浦逸路', 'Other', 4),\n",
       " ('上海柏悦酒店', '上海市世纪大道', 'Five-star hotel', 4),\n",
       " ('复旦大学南区', '上海市政肃路', 'Institutions of higher learning', 4),\n",
       " ('上海市园林学校', '上海市杨树浦路', 'Adult Education', 3),\n",
       " ('上海国金中心IFC', '上海市陆家嘴环路', 'Market', 3),\n",
       " ('绿地普陀商务广场', '上海市新村路', 'Unknown Classification', 3),\n",
       " ('上戏剧院', '上海市华山路', 'Concert Hall', 3),\n",
       " ('调频壹广场', '上海市长寿路', 'Market', 3),\n",
       " ('星巴克(五角场店)', '上海市邯郸路', 'Café', 3),\n",
       " ('柚子(陆家嘴店)', '上海市银城中路', 'Japanese', 3),\n",
       " ('大华虎城', '上海市大华路', 'Live Entertainment', 3),\n",
       " ('2013跨年演唱会聚集地', '北京市远大东路', 'Activity', 3),\n",
       " ('国峰科技大厦', '上海市内环高架路入口', 'Buildings', 3),\n",
       " ('上海明天广场JW万豪酒店', '上海市江阴路', 'Five-star hotel', 3),\n",
       " ('上海数娱大厦', '上海市虹桥路', 'Buildings', 3),\n",
       " ('德州路西营路', '上海市德州路', 'Other', 2),\n",
       " ('纽斯桑拿会所', '上海市金汇南路', 'Bath massage places', 2),\n",
       " ('CGV星星国际影城大华店', '上海市大华路', 'Cinema', 2),\n",
       " ('上大聚丰园', '上海市上大路', 'Unknown Classification', 2),\n",
       " ('上海浦东新区图书馆(新馆)', '上海市前程路', 'Library', 2),\n",
       " ('外滩', '上海市中山东一路', 'Unknown Classification', 2),\n",
       " ('大悦城', '上海市西藏北路', 'Unknown Classification', 2),\n",
       " ('田子坊', '上海市建国中路', 'Residences', 2),\n",
       " ('IN-HOUSE', '上海市愚园路', 'Other', 2),\n",
       " ('上岛咖啡 浦北店 UBC Coffee', '上海市桂平路', 'Other', 2),\n",
       " ('上海外滩茂悦大酒店', '上海市南浔路', 'Self', 2),\n",
       " ('同济大学(沪西校区)', '上海市真南路', 'Institutions of higher learning', 2),\n",
       " ('龙之梦影城', '上海市汇川路', 'Cinema', 2),\n",
       " ('东华大学-莱佛士国际设计学院', '上海市新华路', 'Institutions of higher learning', 2),\n",
       " ('上海市公安局出入境管理局', '上海市民生路', 'Building institutions', 2),\n",
       " ('海底捞火锅(长寿路)', '上海市长寿路', 'Hot Pot', 2),\n",
       " ('港匯恆隆廣場', '上海市华山路', 'Market', 2)]"
      ]
     },
     "execution_count": 21,
     "metadata": {},
     "output_type": "execute_result"
    }
   ],
   "source": [
    "query = '''\n",
    "SELECT \n",
    "    title, street, category_en_name, COUNT(*) as total\n",
    "FROM\n",
    "    weibo_status ws\n",
    "JOIN \n",
    "    weibo_location wl\n",
    "ON\n",
    "    ws.weibo_location_id = wl.weibo_location_id\n",
    "WHERE\n",
    "   ws.weibo_user_id in (\n",
    "        SELECT \n",
    "            weibo_user_id\n",
    "        FROM \n",
    "            weibo_user\n",
    "        WHERE\n",
    "            gender LIKE 'f'\n",
    "        ORDER BY\n",
    "            followers_count DESC\n",
    "        LIMIT\n",
    "            500\n",
    "   )\n",
    "GROUP BY\n",
    "    ws.weibo_location_id\n",
    "ORDER BY \n",
    "    total DESC\n",
    "LIMIT\n",
    "    50\n",
    "'''\n",
    "c.execute(query)\n",
    "rows_f = c.fetchall()\n",
    "rows_f"
   ]
  },
  {
   "cell_type": "markdown",
   "metadata": {},
   "source": [
    "#### 2"
   ]
  },
  {
   "cell_type": "code",
   "execution_count": 22,
   "metadata": {},
   "outputs": [
    {
     "data": {
      "text/plain": [
       "[('上海财经大学中山北一路校区', '上海市新市路', 'Institutions of higher learning', 13),\n",
       " ('沪上一家辣肉面馆(成都北路店)', '上海市成都北路', 'Fast-food restaurant', 8),\n",
       " ('川杨新苑三期', '上海市孙环路', 'Residences', 7),\n",
       " ('张江科教园区', '上海市华佗路', 'Institutions of higher learning', 5),\n",
       " ('中远两湾城西区', '上海市光复西路', 'Unknown Classification', 4),\n",
       " ('和风造型私属Salon', '上海市上南路', 'Live Entertainment', 4),\n",
       " ('南新四村', '上海市下南路', 'Unknown Classification', 4),\n",
       " ('幸福路', '上海市幸福路', 'Other', 4),\n",
       " ('虹口体育馆', '上海市东体育会路', 'Food & Drink', 4),\n",
       " ('G-Star RAW旗舰店', '上海市成都北路', 'Shopping services', 4),\n",
       " ('豪享来 梅川店', '上海市梅川路', 'Western Restaurant', 4),\n",
       " ('一兆韦德(丽园店)', '上海市西藏南路', 'Unknown Classification', 4),\n",
       " ('上海明天广场JW万豪酒店', '上海市江阴路', 'Five-star hotel', 4),\n",
       " ('海伦路', '上海市四平路', 'Unknown Classification', 4),\n",
       " ('大宁国际商业广场', '上海市共和新路', 'Market', 3),\n",
       " ('夜市豆浆油条店', '上海市临潼路', 'Casual dining', 3),\n",
       " ('张江学生社区', '上海市华佗路', 'Campus Life', 3),\n",
       " ('上戏剧院', '上海市华山路', 'Concert Hall', 3),\n",
       " ('外环隧道', '上海市S20外环高速', 'Unknown Classification', 3),\n",
       " ('徐汇瑞峰酒店', '上海市肇嘉浜路', 'Four star hotels', 3),\n",
       " ('北斗星商业广场', '上海市泉临路', 'Shopping services', 3),\n",
       " ('星瀚奔驰', '上海市南大路', 'Unknown Classification', 3),\n",
       " ('合阳小区(南二门)', '上海市延长西路', 'Door', 3),\n",
       " ('金茂大厦', '上海市海兴路', 'Buildings', 3),\n",
       " ('全家便利店(延安二店)', '上海市延安西路', 'Convenience store / convenience store', 2),\n",
       " ('上海影城--世博国际影城', '上海市世博馆路', 'Cinema', 2),\n",
       " ('上海光大会展中心', '上海市习勤路', 'Other', 2),\n",
       " ('虹桥机场(一号航站楼)', '上海市空港一路', 'Airport', 2),\n",
       " ('新发展亚太万豪酒店', '上海市大渡河路', 'Other', 2),\n",
       " ('上海龙之梦丽晶大酒店', '上海市延安西路', 'Five-star hotel', 2),\n",
       " ('上海大剧院', '上海市新昌路', 'Theater', 2),\n",
       " ('爱家豪庭', '上海市物华路', 'Residences', 2),\n",
       " ('伟业金锦苑二邨', '上海市莱阳路', 'Residences', 2),\n",
       " ('锦秋花园', '上海市锦秋路', 'Residences', 2),\n",
       " ('通河二村', '上海市长江西路', 'Residences', 2),\n",
       " ('浦东交警支队事故科东明事故受理点', '上海市东明路', 'Park outdoors', 2),\n",
       " ('上海市杨浦区中心医院', '上海市波阳路', 'Hospital', 2),\n",
       " ('东方明珠', '上海市陆家嘴东路', 'Unknown Classification', 2),\n",
       " ('潍坊九村(西门)', '上海市崂山路', 'Door', 2),\n",
       " ('浦东嘉里中心', '上海市芳甸路', 'Buildings', 2),\n",
       " ('Wagas沃歌斯(金桥国际广场店)', '上海市金桥路', 'Western Restaurant', 2),\n",
       " ('世纪联华(东宝店)', '上海市天通庵路', 'Supermarket', 2),\n",
       " ('海底捞火锅(长寿路)', '上海市长寿路', 'Hot Pot', 2),\n",
       " ('张江传奇广场', '上海市碧波路', 'Unknown Classification', 2),\n",
       " ('上海半岛酒店(The Peninsula,Shanghai)', '上海市北京东路', 'Hotels, guest houses', 2),\n",
       " ('上海安达仕酒店', '上海市嵩山路', 'Hotels, guest houses', 2),\n",
       " ('上海戏剧学院(莲花路校区)', '上海市莲花路', 'Institutions of higher learning', 2),\n",
       " ('上岛咖啡 梅川路店 UBC Coffee', '上海市梅川路', 'Café', 2),\n",
       " ('复旦大学上海医学院', '上海市同生东路', 'Institutions of higher learning', 2),\n",
       " ('桂美别墅', '上海市钦州南路', 'Unknown Classification', 2)]"
      ]
     },
     "execution_count": 22,
     "metadata": {},
     "output_type": "execute_result"
    }
   ],
   "source": [
    "query = '''\n",
    "SELECT \n",
    "    title, street, category_en_name, COUNT(*) as total\n",
    "FROM\n",
    "    weibo_status ws\n",
    "JOIN \n",
    "    weibo_location wl\n",
    "ON\n",
    "    ws.weibo_location_id = wl.weibo_location_id\n",
    "WHERE\n",
    "   ws.weibo_user_id in (\n",
    "        SELECT \n",
    "            weibo_user_id\n",
    "        FROM \n",
    "            weibo_user\n",
    "        WHERE\n",
    "            gender LIKE 'm'\n",
    "        ORDER BY\n",
    "            followers_count DESC\n",
    "        LIMIT\n",
    "            500\n",
    "   )\n",
    "GROUP BY\n",
    "    ws.weibo_location_id\n",
    "ORDER BY \n",
    "    total DESC\n",
    "LIMIT\n",
    "    50\n",
    "'''\n",
    "c.execute(query)\n",
    "rows_m = c.fetchall()\n",
    "rows_m"
   ]
  },
  {
   "cell_type": "markdown",
   "metadata": {},
   "source": [
    "#### 3"
   ]
  },
  {
   "cell_type": "code",
   "execution_count": 23,
   "metadata": {},
   "outputs": [
    {
     "data": {
      "text/plain": [
       "[('凤城三村', '上海市江浦路', 'Residences', 13),\n",
       " ('上海财经大学中山北一路校区', '上海市新市路', 'Institutions of higher learning', 13),\n",
       " ('康泰新城', '上海市华灵路', 'Unknown Classification', 13),\n",
       " ('新天地', '上海市嵩山路', 'Other', 10),\n",
       " ('沪上一家辣肉面馆(成都北路店)', '上海市成都北路', 'Fast-food restaurant', 8),\n",
       " ('川杨新苑三期', '上海市孙环路', 'Residences', 7),\n",
       " ('幸福码头', '上海市中山南路', 'Residences', 7),\n",
       " ('MUSE2', '上海市兴安路', 'Bar', 7),\n",
       " ('上海明天广场JW万豪酒店', '上海市江阴路', 'Five-star hotel', 7),\n",
       " ('万源城朗郡', '上海市古龙路', 'Residences', 6),\n",
       " ('汤臣高尔夫别墅', '上海市龙东大道', 'Residences', 6),\n",
       " ('上戏剧院', '上海市华山路', 'Concert Hall', 6),\n",
       " ('七韵美地苑', '上海市吴中路', 'Unknown Classification', 6),\n",
       " ('汇贤居(The Summit)', '上海市安福路', 'Residences', 5),\n",
       " ('南宜花苑', '上海市凯旋路', 'Residences', 5),\n",
       " ('镇坪路', '上海市镇坪路', 'Unknown Classification', 5),\n",
       " ('环球金融中心', '上海市东泰路', 'Unknown Classification', 5),\n",
       " ('张江科教园区', '上海市华佗路', 'Institutions of higher learning', 5),\n",
       " ('馥邦中环广场', '上海市天山路', 'Market', 5),\n",
       " ('中国联通', '上海市文治路', 'Buildings', 5),\n",
       " ('上海外滩华尔道夫酒店(Waldorf Astoria Shanghai on the Bund)',\n",
       "  '上海市延安东路',\n",
       "  'Hotels, guest houses',\n",
       "  5),\n",
       " ('中远两湾城西区', '上海市光复西路', 'Unknown Classification', 4),\n",
       " ('上海国金中心IFC', '上海市陆家嘴环路', 'Market', 4),\n",
       " ('夜市豆浆油条店', '上海市临潼路', 'Casual dining', 4),\n",
       " ('安居兰庭', '上海市兰溪路', 'Residences', 4),\n",
       " ('和风造型私属Salon', '上海市上南路', 'Live Entertainment', 4),\n",
       " ('南新四村', '上海市下南路', 'Unknown Classification', 4),\n",
       " ('muse 2', '上海市兴安路', 'Other', 4),\n",
       " ('幸福路', '上海市幸福路', 'Other', 4),\n",
       " ('梅赛德斯奔驰文化中心音乐俱乐部', '上海市博成路', 'Unknown Classification', 4),\n",
       " ('海底捞火锅(长寿路)', '上海市长寿路', 'Hot Pot', 4),\n",
       " ('星巴克(东樱花苑店)', '上海市浦逸路', 'Other', 4),\n",
       " ('虹口体育馆', '上海市东体育会路', 'Food & Drink', 4),\n",
       " ('G-Star RAW旗舰店', '上海市成都北路', 'Shopping services', 4),\n",
       " ('上海柏悦酒店', '上海市世纪大道', 'Five-star hotel', 4),\n",
       " ('复旦大学南区', '上海市政肃路', 'Institutions of higher learning', 4),\n",
       " ('2013跨年演唱会聚集地', '北京市远大东路', 'Activity', 4),\n",
       " ('豪享来 梅川店', '上海市梅川路', 'Western Restaurant', 4),\n",
       " ('一兆韦德(丽园店)', '上海市西藏南路', 'Unknown Classification', 4),\n",
       " ('海伦路', '上海市四平路', 'Unknown Classification', 4),\n",
       " ('金茂大厦', '上海市海兴路', 'Buildings', 4),\n",
       " ('上海市园林学校', '上海市杨树浦路', 'Adult Education', 3),\n",
       " ('上海龙之梦丽晶大酒店', '上海市延安西路', 'Five-star hotel', 3),\n",
       " ('上海大剧院', '上海市新昌路', 'Theater', 3),\n",
       " ('大宁国际商业广场', '上海市共和新路', 'Market', 3),\n",
       " ('绿地普陀商务广场', '上海市新村路', 'Unknown Classification', 3),\n",
       " ('张江学生社区', '上海市华佗路', 'Campus Life', 3),\n",
       " ('调频壹广场', '上海市长寿路', 'Market', 3),\n",
       " ('外环隧道', '上海市S20外环高速', 'Unknown Classification', 3),\n",
       " ('宏汇国际广场', '上海市内环高架路入口', 'Buildings', 3)]"
      ]
     },
     "execution_count": 23,
     "metadata": {},
     "output_type": "execute_result"
    }
   ],
   "source": [
    "query = '''\n",
    "SELECT \n",
    "    title, street, category_en_name, COUNT(*) as total\n",
    "FROM\n",
    "    weibo_status ws\n",
    "JOIN \n",
    "    weibo_location wl\n",
    "ON\n",
    "    ws.weibo_location_id = wl.weibo_location_id\n",
    "WHERE\n",
    "   ws.weibo_user_id in (\n",
    "        SELECT \n",
    "            weibo_user_id\n",
    "        FROM \n",
    "            weibo_user\n",
    "        WHERE\n",
    "            gender LIKE 'f'\n",
    "        ORDER BY\n",
    "            followers_count DESC\n",
    "        LIMIT\n",
    "            500\n",
    "   ) OR\n",
    "    ws.weibo_user_id in (\n",
    "        SELECT \n",
    "            weibo_user_id\n",
    "        FROM \n",
    "            weibo_user\n",
    "        WHERE\n",
    "            gender LIKE 'm'\n",
    "        ORDER BY\n",
    "            followers_count DESC\n",
    "        LIMIT\n",
    "            500\n",
    "   )\n",
    "GROUP BY\n",
    "    ws.weibo_location_id\n",
    "ORDER BY \n",
    "    total DESC\n",
    "LIMIT\n",
    "    50\n",
    "'''\n",
    "c.execute(query)\n",
    "rows_a = c.fetchall()\n",
    "rows_a"
   ]
  },
  {
   "cell_type": "code",
   "execution_count": 24,
   "metadata": {},
   "outputs": [
    {
     "name": "stdout",
     "output_type": "stream",
     "text": [
      "('凤城三村', '上海市江浦路', 'Residences', 13) FEMALE SPECIFIC\n",
      "('康泰新城', '上海市华灵路', 'Unknown Classification', 13) FEMALE SPECIFIC\n",
      "('新天地', '上海市嵩山路', 'Other', 9) COMMON PLACES\n",
      "('幸福码头', '上海市中山南路', 'Residences', 7) FEMALE SPECIFIC\n",
      "('万源城朗郡', '上海市古龙路', 'Residences', 6) FEMALE SPECIFIC\n",
      "('汤臣高尔夫别墅', '上海市龙东大道', 'Residences', 6) FEMALE SPECIFIC\n",
      "('七韵美地苑', '上海市吴中路', 'Unknown Classification', 6) FEMALE SPECIFIC\n",
      "('MUSE2', '上海市兴安路', 'Bar', 6) COMMON PLACES\n",
      "('汇贤居(The Summit)', '上海市安福路', 'Residences', 5) FEMALE SPECIFIC\n",
      "('南宜花苑', '上海市凯旋路', 'Residences', 5) FEMALE SPECIFIC\n",
      "('镇坪路', '上海市镇坪路', 'Unknown Classification', 5) FEMALE SPECIFIC\n",
      "('环球金融中心', '上海市东泰路', 'Unknown Classification', 5) FEMALE SPECIFIC\n",
      "('馥邦中环广场', '上海市天山路', 'Market', 5) FEMALE SPECIFIC\n",
      "('中国联通', '上海市文治路', 'Buildings', 5) FEMALE SPECIFIC\n",
      "('上海外滩华尔道夫酒店(Waldorf Astoria Shanghai on the Bund)', '上海市延安东路', 'Hotels, guest houses', 5) FEMALE SPECIFIC\n",
      "('安居兰庭', '上海市兰溪路', 'Residences', 4) FEMALE SPECIFIC\n",
      "('muse 2', '上海市兴安路', 'Other', 4) FEMALE SPECIFIC\n",
      "('梅赛德斯奔驰文化中心音乐俱乐部', '上海市博成路', 'Unknown Classification', 4) FEMALE SPECIFIC\n",
      "('星巴克(东樱花苑店)', '上海市浦逸路', 'Other', 4) FEMALE SPECIFIC\n",
      "('上海柏悦酒店', '上海市世纪大道', 'Five-star hotel', 4) FEMALE SPECIFIC\n",
      "('复旦大学南区', '上海市政肃路', 'Institutions of higher learning', 4) FEMALE SPECIFIC\n",
      "('上海市园林学校', '上海市杨树浦路', 'Adult Education', 3) FEMALE SPECIFIC\n",
      "('上海国金中心IFC', '上海市陆家嘴环路', 'Market', 3) COMMON PLACES\n",
      "('绿地普陀商务广场', '上海市新村路', 'Unknown Classification', 3) FEMALE SPECIFIC\n",
      "('上戏剧院', '上海市华山路', 'Concert Hall', 3) COMMON PLACES\n",
      "('调频壹广场', '上海市长寿路', 'Market', 3) FEMALE SPECIFIC\n",
      "('2013跨年演唱会聚集地', '北京市远大东路', 'Activity', 3) COMMON PLACES\n",
      "('上海明天广场JW万豪酒店', '上海市江阴路', 'Five-star hotel', 3) COMMON PLACES\n",
      "('海底捞火锅(长寿路)', '上海市长寿路', 'Hot Pot', 2) COMMON PLACES\n"
     ]
    }
   ],
   "source": [
    "for i in range(50):\n",
    "    for j in range(50):\n",
    "        if rows_f[i][0]==rows_a[j][0]:\n",
    "            if rows_f[i][3]==rows_a[j][3]:\n",
    "                print(rows_f[i],'FEMALE SPECIFIC')\n",
    "                break\n",
    "        if rows_m[i][0]==rows_a[j][0]:\n",
    "            if rows_m[i][3]==rows_a[j][3]:\n",
    "                print(rows_m[i],'MALE SPECIFIC')\n",
    "                break\n",
    "        if rows_f[i][0]==rows_a[j][0]:\n",
    "            if rows_f[i][3]!=rows_a[j][3]:\n",
    "                print(rows_f[i],'COMMON PLACES')\n",
    "                break"
   ]
  },
  {
   "cell_type": "code",
   "execution_count": null,
   "metadata": {},
   "outputs": [],
   "source": []
  },
  {
   "cell_type": "code",
   "execution_count": null,
   "metadata": {},
   "outputs": [],
   "source": []
  },
  {
   "cell_type": "code",
   "execution_count": null,
   "metadata": {},
   "outputs": [],
   "source": []
  },
  {
   "cell_type": "code",
   "execution_count": null,
   "metadata": {},
   "outputs": [],
   "source": []
  },
  {
   "cell_type": "code",
   "execution_count": null,
   "metadata": {},
   "outputs": [],
   "source": []
  },
  {
   "cell_type": "code",
   "execution_count": null,
   "metadata": {},
   "outputs": [],
   "source": []
  },
  {
   "cell_type": "code",
   "execution_count": null,
   "metadata": {},
   "outputs": [],
   "source": []
  }
 ],
 "metadata": {
  "kernelspec": {
   "display_name": "Python 3",
   "language": "python",
   "name": "python3"
  },
  "language_info": {
   "codemirror_mode": {
    "name": "ipython",
    "version": 3
   },
   "file_extension": ".py",
   "mimetype": "text/x-python",
   "name": "python",
   "nbconvert_exporter": "python",
   "pygments_lexer": "ipython3",
   "version": "3.9.0"
  }
 },
 "nbformat": 4,
 "nbformat_minor": 4
}
