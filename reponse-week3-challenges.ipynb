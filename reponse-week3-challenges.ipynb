{
 "cells": [
  {
   "cell_type": "markdown",
   "metadata": {},
   "source": [
    "# Python For Data Engineering part 2 – the TD"
   ]
  },
  {
   "cell_type": "markdown",
   "metadata": {},
   "source": [
    "## The CSV analysis\n",
    "\n",
    "download the mobike csv usign baidu pan\n",
    "\n",
    "链接: https://pan.baidu.com/s/1aszR_8xX9cvniCeGO9OwaA  \n",
    "\n",
    "密码: kak5\n",
    "--来自百度网盘超级会员V3的分享\n",
    "\n",
    "Using the mobike dataset, read the csv and answer the following questions:\n",
    "\n",
    "1. Which day of the week see the most events?\n",
    "2. Which day of the month see the most events? \n",
    "3. Which bike has been used the most?\n",
    "4. How many bike does a user use in average?"
   ]
  },
  {
   "cell_type": "code",
   "execution_count": 1,
   "metadata": {},
   "outputs": [],
   "source": [
    "import csv\n",
    "from datetime import datetime"
   ]
  },
  {
   "cell_type": "code",
   "execution_count": 2,
   "metadata": {},
   "outputs": [],
   "source": [
    "with open('/Users/raymond/ScriptJupyterLab/data_analyse/homework/data/UTSEUS-MOBIKE-shanghai_full.csv',\"r\") as mobikefile:\n",
    "    mobikecsv = csv.reader(mobikefile)\n",
    "    mobikedata = [row for i, row in enumerate(mobikecsv)]\n",
    "# mobikedata"
   ]
  },
  {
   "cell_type": "markdown",
   "metadata": {},
   "source": [
    "## Question 1: Which day of the week see the most events?"
   ]
  },
  {
   "cell_type": "code",
   "execution_count": 3,
   "metadata": {},
   "outputs": [
    {
     "data": {
      "text/plain": [
       "2"
      ]
     },
     "execution_count": 3,
     "metadata": {},
     "output_type": "execute_result"
    }
   ],
   "source": [
    "week = []\n",
    "for row in mobikedata[1:]:\n",
    "    week.append( int( datetime.strptime(row[3].split(\" \")[0],\"%Y-%m-%d\").weekday() ) )\n",
    "times_week = []\n",
    "for i in range(0,7):\n",
    "    times_week.append( week.count(i) )\n",
    "times_week.index( max(times_week) )"
   ]
  },
  {
   "cell_type": "markdown",
   "metadata": {},
   "source": [
    "#### answer = wedneseday"
   ]
  },
  {
   "cell_type": "markdown",
   "metadata": {},
   "source": [
    "### Question 2: Which day of the month see the most events?"
   ]
  },
  {
   "cell_type": "code",
   "execution_count": 4,
   "metadata": {},
   "outputs": [
    {
     "data": {
      "text/plain": [
       "31"
      ]
     },
     "execution_count": 4,
     "metadata": {},
     "output_type": "execute_result"
    }
   ],
   "source": [
    "month = []\n",
    "for row in mobikedata[1:]:\n",
    "    month.append( int(row[3].split(\" \")[0].split(\"-\")[2]) )\n",
    "times_month = []\n",
    "for i in range(1,32):\n",
    "    times_month.append( month.count(i) )\n",
    "times_month.index( max(times_month) ) + 1"
   ]
  },
  {
   "cell_type": "markdown",
   "metadata": {},
   "source": [
    "#### 31st day have the most events"
   ]
  },
  {
   "cell_type": "markdown",
   "metadata": {},
   "source": [
    "### Question 3: Which bike has been used the most?"
   ]
  },
  {
   "cell_type": "code",
   "execution_count": 5,
   "metadata": {},
   "outputs": [
    {
     "data": {
      "text/plain": [
       "98"
      ]
     },
     "execution_count": 5,
     "metadata": {},
     "output_type": "execute_result"
    }
   ],
   "source": [
    "mobiketimes={}\n",
    "for i in mobikedata[1:]:\n",
    "    if i[1] in mobiketimes:\n",
    "        mobiketimes[i[1]] = mobiketimes[i[1]] + 1\n",
    "    else:\n",
    "        mobiketimes[i[1]] = 1\n",
    "mobiketimes[max(mobiketimes,key=mobiketimes.get)]"
   ]
  },
  {
   "cell_type": "markdown",
   "metadata": {},
   "source": [
    "#### answer = the bike whose bikeid is 98 has been used best"
   ]
  },
  {
   "cell_type": "markdown",
   "metadata": {},
   "source": [
    "### Question 4: How many bike does a user use in average?"
   ]
  },
  {
   "cell_type": "code",
   "execution_count": 6,
   "metadata": {},
   "outputs": [
    {
     "data": {
      "text/plain": [
       "1.0"
      ]
     },
     "execution_count": 6,
     "metadata": {},
     "output_type": "execute_result"
    }
   ],
   "source": [
    "nbTimes = len(mobikedata) - 1\n",
    "nbPersons = len( set([ row[0] for row in mobikedata[1:] ]) )\n",
    "freq = nbPersons / nbTimes\n",
    "freq"
   ]
  },
  {
   "cell_type": "markdown",
   "metadata": {},
   "source": [
    "#### answer = user use one bike in anerage"
   ]
  },
  {
   "cell_type": "markdown",
   "metadata": {},
   "source": [
    "### Question 5: Which day of the week has the longest average travel?"
   ]
  },
  {
   "cell_type": "code",
   "execution_count": 7,
   "metadata": {},
   "outputs": [
    {
     "data": {
      "text/plain": [
       "2"
      ]
     },
     "execution_count": 7,
     "metadata": {},
     "output_type": "execute_result"
    }
   ],
   "source": [
    "minutes=[0,0,0,0,0,0,0]\n",
    "for rows in mobikedata[2:]:\n",
    "    minutes[int( datetime.strptime(rows[3].split(\" \")[0],\"%Y-%m-%d\").weekday() )] += ( datetime.strptime(rows[6],\"%Y-%m-%d %H:%M\") - datetime.strptime(rows[3],\"%Y-%m-%d %H:%M\") ).seconds / 60 \n",
    "minutes.index( max(minutes) )\n"
   ]
  },
  {
   "cell_type": "markdown",
   "metadata": {},
   "source": [
    "#### answer = Wednesday has the longest average travel"
   ]
  },
  {
   "cell_type": "code",
   "execution_count": null,
   "metadata": {},
   "outputs": [],
   "source": []
  },
  {
   "cell_type": "code",
   "execution_count": null,
   "metadata": {},
   "outputs": [],
   "source": []
  },
  {
   "cell_type": "markdown",
   "metadata": {
    "tags": []
   },
   "source": [
    "## Challange of API\n",
    "display the name of the author using API"
   ]
  },
  {
   "cell_type": "code",
   "execution_count": 8,
   "metadata": {},
   "outputs": [],
   "source": [
    "import requests\n",
    "import json"
   ]
  },
  {
   "cell_type": "code",
   "execution_count": 9,
   "metadata": {},
   "outputs": [
    {
     "data": {
      "text/plain": [
       "'Marcel Proust'"
      ]
     },
     "execution_count": 9,
     "metadata": {},
     "output_type": "execute_result"
    }
   ],
   "source": [
    "isbn = '9782070754922'\n",
    "url = 'http://openlibrary.org/api/books'\n",
    "params={'bibkeys':f'ISBN{isbn}','format':'json','jscmd':'data'}\n",
    "r = requests.get(url,params=params)\n",
    "r.json()['ISBN9782070754922']['authors'][0]['name']"
   ]
  },
  {
   "cell_type": "code",
   "execution_count": null,
   "metadata": {},
   "outputs": [],
   "source": []
  }
 ],
 "metadata": {
  "kernelspec": {
   "display_name": "Python 3",
   "language": "python",
   "name": "python3"
  },
  "language_info": {
   "codemirror_mode": {
    "name": "ipython",
    "version": 3
   },
   "file_extension": ".py",
   "mimetype": "text/x-python",
   "name": "python",
   "nbconvert_exporter": "python",
   "pygments_lexer": "ipython3",
   "version": "3.9.0"
  }
 },
 "nbformat": 4,
 "nbformat_minor": 4
}
